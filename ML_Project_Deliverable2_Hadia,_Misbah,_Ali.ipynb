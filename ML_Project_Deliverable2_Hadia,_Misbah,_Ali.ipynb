{
  "cells": [
    {
      "cell_type": "markdown",
      "source": [
        "Hadia Trik\n",
        "\n",
        "Misbah Noor Awan\n",
        "\n",
        "Muhammad Ali Usman\n",
        "\n",
        "\n",
        "<br>BESE-11A"
      ],
      "metadata": {
        "id": "Yay3g5jovvUD"
      }
    },
    {
      "cell_type": "code",
      "execution_count": null,
      "metadata": {
        "id": "hSLuwdu66Ogm"
      },
      "outputs": [],
      "source": [
        "import pandas as pd\n",
        "import numpy as np\n",
        "import seaborn as sns\n",
        "import matplotlib.pyplot as plt\n",
        "from scipy import stats\n",
        "from sklearn.preprocessing import OneHotEncoder"
      ]
    },
    {
      "cell_type": "code",
      "execution_count": null,
      "metadata": {
        "id": "DS2HvoOSDgLl"
      },
      "outputs": [],
      "source": [
        "data = pd.read_csv(\"london_merged.csv\")"
      ]
    },
    {
      "cell_type": "markdown",
      "metadata": {
        "id": "MR_CgNVeD4Z9"
      },
      "source": [
        "**Metadata:**<br>\n",
        "\"timestamp\" - timestamp field for grouping the data<br>\n",
        "\"cnt\" - the count of a new bike shares<br>\n",
        "\"t1\" - real temperature in C<br>\n",
        "\"t2\" - temperature in C \"feels like\"<br>\n",
        "\"hum\" - humidity in percentage<br>\n",
        "\"wind_speed\" - wind speed in km/h<br>\n",
        "\"weather_code\" - category of the weather<br>\n",
        "\"is_holiday\" - boolean field - 1 holiday / 0 non holiday<br>\n",
        "\"is_weekend\" - boolean field - 1 if the day is weekend<br>\n",
        "\"season\" - category field meteorological seasons: <br>0-spring ; 1-summer; 2-fall; 3-winter.\n",
        "\n",
        "\"weather_code\" category description:<br>\n",
        "1 = Clear ; mostly clear but have some values with haze/fog/patches of fog/ fog in vicinity 2 = scattered clouds / few clouds 3 = Broken clouds 4 = Cloudy 7 = Rain/ light Rain shower/ Light rain 10 = rain with thunderstorm 26 = snowfall 94 = Freezing Fog"
      ]
    },
    {
      "cell_type": "code",
      "execution_count": null,
      "metadata": {
        "colab": {
          "base_uri": "https://localhost:8080/",
          "height": 206
        },
        "id": "t4SFzkpOEfhB",
        "outputId": "fd1adefd-2257-4ef9-8cde-5b52cbfdfbf2"
      },
      "outputs": [
        {
          "output_type": "execute_result",
          "data": {
            "text/plain": [
              "             timestamp  cnt   t1   t2    hum  wind_speed  weather_code  \\\n",
              "0  2015-01-04 00:00:00  182  3.0  2.0   93.0         6.0           3.0   \n",
              "1  2015-01-04 01:00:00  138  3.0  2.5   93.0         5.0           1.0   \n",
              "2  2015-01-04 02:00:00  134  2.5  2.5   96.5         0.0           1.0   \n",
              "3  2015-01-04 03:00:00   72  2.0  2.0  100.0         0.0           1.0   \n",
              "4  2015-01-04 04:00:00   47  2.0  0.0   93.0         6.5           1.0   \n",
              "\n",
              "   is_holiday  is_weekend  season  \n",
              "0         0.0         1.0     3.0  \n",
              "1         0.0         1.0     3.0  \n",
              "2         0.0         1.0     3.0  \n",
              "3         0.0         1.0     3.0  \n",
              "4         0.0         1.0     3.0  "
            ],
            "text/html": [
              "\n",
              "  <div id=\"df-223b1b9d-3d64-4ca8-80fa-b56cc1eecfda\">\n",
              "    <div class=\"colab-df-container\">\n",
              "      <div>\n",
              "<style scoped>\n",
              "    .dataframe tbody tr th:only-of-type {\n",
              "        vertical-align: middle;\n",
              "    }\n",
              "\n",
              "    .dataframe tbody tr th {\n",
              "        vertical-align: top;\n",
              "    }\n",
              "\n",
              "    .dataframe thead th {\n",
              "        text-align: right;\n",
              "    }\n",
              "</style>\n",
              "<table border=\"1\" class=\"dataframe\">\n",
              "  <thead>\n",
              "    <tr style=\"text-align: right;\">\n",
              "      <th></th>\n",
              "      <th>timestamp</th>\n",
              "      <th>cnt</th>\n",
              "      <th>t1</th>\n",
              "      <th>t2</th>\n",
              "      <th>hum</th>\n",
              "      <th>wind_speed</th>\n",
              "      <th>weather_code</th>\n",
              "      <th>is_holiday</th>\n",
              "      <th>is_weekend</th>\n",
              "      <th>season</th>\n",
              "    </tr>\n",
              "  </thead>\n",
              "  <tbody>\n",
              "    <tr>\n",
              "      <th>0</th>\n",
              "      <td>2015-01-04 00:00:00</td>\n",
              "      <td>182</td>\n",
              "      <td>3.0</td>\n",
              "      <td>2.0</td>\n",
              "      <td>93.0</td>\n",
              "      <td>6.0</td>\n",
              "      <td>3.0</td>\n",
              "      <td>0.0</td>\n",
              "      <td>1.0</td>\n",
              "      <td>3.0</td>\n",
              "    </tr>\n",
              "    <tr>\n",
              "      <th>1</th>\n",
              "      <td>2015-01-04 01:00:00</td>\n",
              "      <td>138</td>\n",
              "      <td>3.0</td>\n",
              "      <td>2.5</td>\n",
              "      <td>93.0</td>\n",
              "      <td>5.0</td>\n",
              "      <td>1.0</td>\n",
              "      <td>0.0</td>\n",
              "      <td>1.0</td>\n",
              "      <td>3.0</td>\n",
              "    </tr>\n",
              "    <tr>\n",
              "      <th>2</th>\n",
              "      <td>2015-01-04 02:00:00</td>\n",
              "      <td>134</td>\n",
              "      <td>2.5</td>\n",
              "      <td>2.5</td>\n",
              "      <td>96.5</td>\n",
              "      <td>0.0</td>\n",
              "      <td>1.0</td>\n",
              "      <td>0.0</td>\n",
              "      <td>1.0</td>\n",
              "      <td>3.0</td>\n",
              "    </tr>\n",
              "    <tr>\n",
              "      <th>3</th>\n",
              "      <td>2015-01-04 03:00:00</td>\n",
              "      <td>72</td>\n",
              "      <td>2.0</td>\n",
              "      <td>2.0</td>\n",
              "      <td>100.0</td>\n",
              "      <td>0.0</td>\n",
              "      <td>1.0</td>\n",
              "      <td>0.0</td>\n",
              "      <td>1.0</td>\n",
              "      <td>3.0</td>\n",
              "    </tr>\n",
              "    <tr>\n",
              "      <th>4</th>\n",
              "      <td>2015-01-04 04:00:00</td>\n",
              "      <td>47</td>\n",
              "      <td>2.0</td>\n",
              "      <td>0.0</td>\n",
              "      <td>93.0</td>\n",
              "      <td>6.5</td>\n",
              "      <td>1.0</td>\n",
              "      <td>0.0</td>\n",
              "      <td>1.0</td>\n",
              "      <td>3.0</td>\n",
              "    </tr>\n",
              "  </tbody>\n",
              "</table>\n",
              "</div>\n",
              "      <button class=\"colab-df-convert\" onclick=\"convertToInteractive('df-223b1b9d-3d64-4ca8-80fa-b56cc1eecfda')\"\n",
              "              title=\"Convert this dataframe to an interactive table.\"\n",
              "              style=\"display:none;\">\n",
              "        \n",
              "  <svg xmlns=\"http://www.w3.org/2000/svg\" height=\"24px\"viewBox=\"0 0 24 24\"\n",
              "       width=\"24px\">\n",
              "    <path d=\"M0 0h24v24H0V0z\" fill=\"none\"/>\n",
              "    <path d=\"M18.56 5.44l.94 2.06.94-2.06 2.06-.94-2.06-.94-.94-2.06-.94 2.06-2.06.94zm-11 1L8.5 8.5l.94-2.06 2.06-.94-2.06-.94L8.5 2.5l-.94 2.06-2.06.94zm10 10l.94 2.06.94-2.06 2.06-.94-2.06-.94-.94-2.06-.94 2.06-2.06.94z\"/><path d=\"M17.41 7.96l-1.37-1.37c-.4-.4-.92-.59-1.43-.59-.52 0-1.04.2-1.43.59L10.3 9.45l-7.72 7.72c-.78.78-.78 2.05 0 2.83L4 21.41c.39.39.9.59 1.41.59.51 0 1.02-.2 1.41-.59l7.78-7.78 2.81-2.81c.8-.78.8-2.07 0-2.86zM5.41 20L4 18.59l7.72-7.72 1.47 1.35L5.41 20z\"/>\n",
              "  </svg>\n",
              "      </button>\n",
              "      \n",
              "  <style>\n",
              "    .colab-df-container {\n",
              "      display:flex;\n",
              "      flex-wrap:wrap;\n",
              "      gap: 12px;\n",
              "    }\n",
              "\n",
              "    .colab-df-convert {\n",
              "      background-color: #E8F0FE;\n",
              "      border: none;\n",
              "      border-radius: 50%;\n",
              "      cursor: pointer;\n",
              "      display: none;\n",
              "      fill: #1967D2;\n",
              "      height: 32px;\n",
              "      padding: 0 0 0 0;\n",
              "      width: 32px;\n",
              "    }\n",
              "\n",
              "    .colab-df-convert:hover {\n",
              "      background-color: #E2EBFA;\n",
              "      box-shadow: 0px 1px 2px rgba(60, 64, 67, 0.3), 0px 1px 3px 1px rgba(60, 64, 67, 0.15);\n",
              "      fill: #174EA6;\n",
              "    }\n",
              "\n",
              "    [theme=dark] .colab-df-convert {\n",
              "      background-color: #3B4455;\n",
              "      fill: #D2E3FC;\n",
              "    }\n",
              "\n",
              "    [theme=dark] .colab-df-convert:hover {\n",
              "      background-color: #434B5C;\n",
              "      box-shadow: 0px 1px 3px 1px rgba(0, 0, 0, 0.15);\n",
              "      filter: drop-shadow(0px 1px 2px rgba(0, 0, 0, 0.3));\n",
              "      fill: #FFFFFF;\n",
              "    }\n",
              "  </style>\n",
              "\n",
              "      <script>\n",
              "        const buttonEl =\n",
              "          document.querySelector('#df-223b1b9d-3d64-4ca8-80fa-b56cc1eecfda button.colab-df-convert');\n",
              "        buttonEl.style.display =\n",
              "          google.colab.kernel.accessAllowed ? 'block' : 'none';\n",
              "\n",
              "        async function convertToInteractive(key) {\n",
              "          const element = document.querySelector('#df-223b1b9d-3d64-4ca8-80fa-b56cc1eecfda');\n",
              "          const dataTable =\n",
              "            await google.colab.kernel.invokeFunction('convertToInteractive',\n",
              "                                                     [key], {});\n",
              "          if (!dataTable) return;\n",
              "\n",
              "          const docLinkHtml = 'Like what you see? Visit the ' +\n",
              "            '<a target=\"_blank\" href=https://colab.research.google.com/notebooks/data_table.ipynb>data table notebook</a>'\n",
              "            + ' to learn more about interactive tables.';\n",
              "          element.innerHTML = '';\n",
              "          dataTable['output_type'] = 'display_data';\n",
              "          await google.colab.output.renderOutput(dataTable, element);\n",
              "          const docLink = document.createElement('div');\n",
              "          docLink.innerHTML = docLinkHtml;\n",
              "          element.appendChild(docLink);\n",
              "        }\n",
              "      </script>\n",
              "    </div>\n",
              "  </div>\n",
              "  "
            ]
          },
          "metadata": {},
          "execution_count": 5
        }
      ],
      "source": [
        "data.head()"
      ]
    },
    {
      "cell_type": "code",
      "execution_count": null,
      "metadata": {
        "colab": {
          "base_uri": "https://localhost:8080/"
        },
        "id": "WG5mYUx9ExxA",
        "outputId": "d8072d4d-34fd-41cd-a39b-9ea929af74c0"
      },
      "outputs": [
        {
          "output_type": "stream",
          "name": "stdout",
          "text": [
            "<class 'pandas.core.frame.DataFrame'>\n",
            "RangeIndex: 17414 entries, 0 to 17413\n",
            "Data columns (total 10 columns):\n",
            " #   Column        Non-Null Count  Dtype  \n",
            "---  ------        --------------  -----  \n",
            " 0   timestamp     17414 non-null  object \n",
            " 1   cnt           17414 non-null  int64  \n",
            " 2   t1            17414 non-null  float64\n",
            " 3   t2            17414 non-null  float64\n",
            " 4   hum           17414 non-null  float64\n",
            " 5   wind_speed    17414 non-null  float64\n",
            " 6   weather_code  17414 non-null  float64\n",
            " 7   is_holiday    17414 non-null  float64\n",
            " 8   is_weekend    17414 non-null  float64\n",
            " 9   season        17414 non-null  float64\n",
            "dtypes: float64(8), int64(1), object(1)\n",
            "memory usage: 1.3+ MB\n"
          ]
        }
      ],
      "source": [
        "data.info()"
      ]
    },
    {
      "cell_type": "markdown",
      "metadata": {
        "id": "iPvgv-s44B6d"
      },
      "source": [
        "# Checking for empty or nan values"
      ]
    },
    {
      "cell_type": "code",
      "execution_count": null,
      "metadata": {
        "colab": {
          "base_uri": "https://localhost:8080/"
        },
        "id": "xsvSQNmNGj6A",
        "outputId": "88579071-27e4-4e92-ff31-c505e578cace"
      },
      "outputs": [
        {
          "output_type": "execute_result",
          "data": {
            "text/plain": [
              "timestamp       0\n",
              "cnt             0\n",
              "t1              0\n",
              "t2              0\n",
              "hum             0\n",
              "wind_speed      0\n",
              "weather_code    0\n",
              "is_holiday      0\n",
              "is_weekend      0\n",
              "season          0\n",
              "dtype: int64"
            ]
          },
          "metadata": {},
          "execution_count": 7
        }
      ],
      "source": [
        "data.isnull().sum()"
      ]
    },
    {
      "cell_type": "markdown",
      "metadata": {
        "id": "R0ZQ54xHHR6x"
      },
      "source": [
        "**No null values found.**"
      ]
    },
    {
      "cell_type": "code",
      "execution_count": null,
      "metadata": {
        "colab": {
          "base_uri": "https://localhost:8080/"
        },
        "id": "HZNbPehiGv_Y",
        "outputId": "a0afba02-3e64-44df-c9d8-238baace00e5"
      },
      "outputs": [
        {
          "output_type": "execute_result",
          "data": {
            "text/plain": [
              "timestamp       0\n",
              "cnt             0\n",
              "t1              0\n",
              "t2              0\n",
              "hum             0\n",
              "wind_speed      0\n",
              "weather_code    0\n",
              "is_holiday      0\n",
              "is_weekend      0\n",
              "season          0\n",
              "dtype: int64"
            ]
          },
          "metadata": {},
          "execution_count": 8
        }
      ],
      "source": [
        "data.isna().sum()"
      ]
    },
    {
      "cell_type": "markdown",
      "metadata": {
        "id": "hpFqB2OfHh66"
      },
      "source": [
        "**No NaN values found.**"
      ]
    },
    {
      "cell_type": "markdown",
      "metadata": {
        "id": "diBby2OhAlWf"
      },
      "source": [
        "# Checking for Duplicate Values"
      ]
    },
    {
      "cell_type": "code",
      "execution_count": null,
      "metadata": {
        "colab": {
          "base_uri": "https://localhost:8080/"
        },
        "id": "MMfEgakdAktB",
        "outputId": "059b3d05-b555-462a-de74-6867034c3857"
      },
      "outputs": [
        {
          "output_type": "stream",
          "name": "stdout",
          "text": [
            "0\n"
          ]
        }
      ],
      "source": [
        "print(data.duplicated().sum())"
      ]
    },
    {
      "cell_type": "markdown",
      "metadata": {
        "id": "hyUhhQuw4LtG"
      },
      "source": [
        "# Analysis of categorical attributes"
      ]
    },
    {
      "cell_type": "markdown",
      "metadata": {
        "id": "5ZIcRganM2On"
      },
      "source": [
        "Now we analyze the value counts for various attributes. We do not need to analyze the value counts for continuous data like cnt, t1, t2, hum, wind_speed.<br>\n",
        "We will check the counts of categorical attributes: weather_code, is_holiday, is_weekend, and the season.\n",
        "\n"
      ]
    },
    {
      "cell_type": "code",
      "execution_count": null,
      "metadata": {
        "colab": {
          "base_uri": "https://localhost:8080/",
          "height": 338
        },
        "id": "riJICCMHryun",
        "outputId": "c4e982c1-baf8-4306-bd29-193bf0082405"
      },
      "outputs": [
        {
          "output_type": "stream",
          "name": "stdout",
          "text": [
            "0.0    4394\n",
            "1.0    4387\n",
            "3.0    4330\n",
            "2.0    4303\n",
            "Name: season, dtype: int64\n"
          ]
        },
        {
          "output_type": "execute_result",
          "data": {
            "text/plain": [
              "<Axes: xlabel='season', ylabel='count'>"
            ]
          },
          "metadata": {},
          "execution_count": 10
        },
        {
          "output_type": "display_data",
          "data": {
            "text/plain": [
              "<Figure size 300x200 with 1 Axes>"
            ],
            "image/png": "[encoded data removed]"
          },
          "metadata": {}
        }
      ],
      "source": [
        "print(data['season'].value_counts())\n",
        "plt.figure(figsize=(3,2))\n",
        "sns.countplot(x=data['season'])"
      ]
    },
    {
      "cell_type": "markdown",
      "metadata": {
        "id": "VRvyCdTUsGtI"
      },
      "source": [
        "All the unique values of season have almost equal number of data samples."
      ]
    },
    {
      "cell_type": "code",
      "execution_count": null,
      "metadata": {
        "colab": {
          "base_uri": "https://localhost:8080/",
          "height": 303
        },
        "id": "uUI-_k8Mr1ge",
        "outputId": "7582fb9d-8802-490e-fd2f-975d6c04c8dc"
      },
      "outputs": [
        {
          "output_type": "stream",
          "name": "stdout",
          "text": [
            "0.0    12444\n",
            "1.0     4970\n",
            "Name: is_weekend, dtype: int64\n"
          ]
        },
        {
          "output_type": "execute_result",
          "data": {
            "text/plain": [
              "<Axes: xlabel='is_weekend', ylabel='count'>"
            ]
          },
          "metadata": {},
          "execution_count": 11
        },
        {
          "output_type": "display_data",
          "data": {
            "text/plain": [
              "<Figure size 300x200 with 1 Axes>"
            ],
            "image/png": "[encoded data removed]"
          },
          "metadata": {}
        }
      ],
      "source": [
        "print(data['is_weekend'].value_counts())\n",
        "plt.figure(figsize=(3,2))\n",
        "sns.countplot(x=data['is_weekend'])"
      ]
    },
    {
      "cell_type": "markdown",
      "metadata": {
        "id": "5p0JvPPCsHSo"
      },
      "source": [
        "Weekends have more data samples"
      ]
    },
    {
      "cell_type": "code",
      "execution_count": null,
      "metadata": {
        "colab": {
          "base_uri": "https://localhost:8080/",
          "height": 303
        },
        "id": "KkB3LnoUr3Mv",
        "outputId": "dabf1442-b8ac-489f-81bd-a46788a5045f"
      },
      "outputs": [
        {
          "output_type": "stream",
          "name": "stdout",
          "text": [
            "0.0    17030\n",
            "1.0      384\n",
            "Name: is_holiday, dtype: int64\n"
          ]
        },
        {
          "output_type": "execute_result",
          "data": {
            "text/plain": [
              "<Axes: xlabel='is_holiday', ylabel='count'>"
            ]
          },
          "metadata": {},
          "execution_count": 12
        },
        {
          "output_type": "display_data",
          "data": {
            "text/plain": [
              "<Figure size 300x200 with 1 Axes>"
            ],
            "image/png": "[encoded data removed]"
          },
          "metadata": {}
        }
      ],
      "source": [
        "print(data['is_holiday'].value_counts())\n",
        "plt.figure(figsize=(3,2))\n",
        "sns.countplot(x=data['is_holiday'])"
      ]
    },
    {
      "cell_type": "markdown",
      "metadata": {
        "id": "JGGYblZOsH9j"
      },
      "source": [
        "Holidays have less number of data samples."
      ]
    },
    {
      "cell_type": "code",
      "execution_count": null,
      "metadata": {
        "colab": {
          "base_uri": "https://localhost:8080/",
          "height": 390
        },
        "id": "ZhHtIwLHr26t",
        "outputId": "c9f2b841-31f4-4058-b67b-83f14ab91954"
      },
      "outputs": [
        {
          "output_type": "stream",
          "name": "stdout",
          "text": [
            "1.0     6150\n",
            "2.0     4034\n",
            "3.0     3551\n",
            "7.0     2141\n",
            "4.0     1464\n",
            "26.0      60\n",
            "10.0      14\n",
            "Name: weather_code, dtype: int64\n"
          ]
        },
        {
          "output_type": "execute_result",
          "data": {
            "text/plain": [
              "<Axes: xlabel='weather_code', ylabel='count'>"
            ]
          },
          "metadata": {},
          "execution_count": 13
        },
        {
          "output_type": "display_data",
          "data": {
            "text/plain": [
              "<Figure size 300x200 with 1 Axes>"
            ],
            "image/png": "[encoded data removed]"
          },
          "metadata": {}
        }
      ],
      "source": [
        "print(data['weather_code'].value_counts())\n",
        "plt.figure(figsize=(3,2))\n",
        "sns.countplot(x=data['weather_code'])"
      ]
    },
    {
      "cell_type": "markdown",
      "metadata": {
        "id": "dVKloihnsJGA"
      },
      "source": [
        "weather_code 26.0 and 10.0 have small number of data samples. This might cause our model to overfit. weather_code 96.0 has no occurence in data at all.<br>\n",
        "To solve this problem, we combine all of these (10 = rain with thunderstorm 26 = snowfall 94 = Freezing Fog) into a single category \"99.0 = extreme weather\"."
      ]
    },
    {
      "cell_type": "code",
      "execution_count": null,
      "metadata": {
        "id": "n7mKO3GjwBPG"
      },
      "outputs": [],
      "source": [
        "# frequency of each category\n",
        "counts = data['weather_code'].value_counts()\n",
        "\n",
        "# threshold for rare categories\n",
        "threshold = 100\n",
        "\n",
        "# finding the categories that occur less than the threshold\n",
        "rare_occ = counts[counts < threshold].index.tolist()\n",
        "\n",
        "# combine rare categories into a new category called 99\n",
        "data['weather_code'] = data['weather_code'].apply(lambda x: 99 if x in rare_occ else x)"
      ]
    },
    {
      "cell_type": "code",
      "execution_count": null,
      "metadata": {
        "colab": {
          "base_uri": "https://localhost:8080/",
          "height": 373
        },
        "id": "QXrseBqsxCta",
        "outputId": "63c90174-50fd-4f30-d9ef-69d48ab6a235"
      },
      "outputs": [
        {
          "output_type": "stream",
          "name": "stdout",
          "text": [
            "1.0     6150\n",
            "2.0     4034\n",
            "3.0     3551\n",
            "7.0     2141\n",
            "4.0     1464\n",
            "99.0      74\n",
            "Name: weather_code, dtype: int64\n"
          ]
        },
        {
          "output_type": "execute_result",
          "data": {
            "text/plain": [
              "<Axes: xlabel='weather_code', ylabel='count'>"
            ]
          },
          "metadata": {},
          "execution_count": 15
        },
        {
          "output_type": "display_data",
          "data": {
            "text/plain": [
              "<Figure size 300x200 with 1 Axes>"
            ],
            "image/png": "[encoded data removed]"
          },
          "metadata": {}
        }
      ],
      "source": [
        "print(data['weather_code'].value_counts())\n",
        "plt.figure(figsize=(3,2))\n",
        "sns.countplot(x=data['weather_code'])"
      ]
    },
    {
      "cell_type": "markdown",
      "metadata": {
        "id": "VBylnZ_74bb4"
      },
      "source": [
        "# Analysis of attributes with continuous values"
      ]
    },
    {
      "cell_type": "markdown",
      "metadata": {
        "id": "vszNcbtqpRK6"
      },
      "source": [
        "To detect and remove handle outliers in the continuous attributes i.e. t1, t2, hum, cnt, and wind_speed, we will ise IQR approach. We will visualize these attributes using box plot, remove the outliers using IQR approach and visualize them again to see the difference."
      ]
    },
    {
      "cell_type": "code",
      "execution_count": null,
      "metadata": {
        "colab": {
          "base_uri": "https://localhost:8080/",
          "height": 341
        },
        "id": "eXhkWHAEwRsr",
        "outputId": "ada7063c-d152-4587-d48a-edc1cb5de588"
      },
      "outputs": [
        {
          "output_type": "display_data",
          "data": {
            "text/plain": [
              "<Figure size 600x300 with 2 Axes>"
            ],
            "image/png": "[encoded data removed]"
          },
          "metadata": {}
        }
      ],
      "source": [
        "fig, (ax1, ax2) = plt.subplots(nrows=2, figsize=(6, 3), height_ratios=(0.25, 0.75))\n",
        "# boxplot of t1\n",
        "sns.boxplot(x=data['t1'], ax=ax1)\n",
        "ax1.set_xlabel(\"real temperature in C\")\n",
        "# line plot of t1\n",
        "sns.kdeplot(x=data['t1'], ax=ax2)\n",
        "ax2.set_xlabel(\"real temperature in C\")\n",
        "\n",
        "fig.suptitle(\"Distribution of t1\")\n",
        "plt.show()"
      ]
    },
    {
      "cell_type": "code",
      "execution_count": null,
      "metadata": {
        "colab": {
          "base_uri": "https://localhost:8080/"
        },
        "id": "JfuMYrQLA6_3",
        "outputId": "bcad2313-34e1-48ae-fd09-ce5aafe548f3"
      },
      "outputs": [
        {
          "output_type": "stream",
          "name": "stdout",
          "text": [
            "Number of removed outliers:  64\n"
          ]
        }
      ],
      "source": [
        "# IQR Approach\n",
        "q1, q3 = np.percentile(data['t1'], 25), np.percentile(data['t1'], 75)\n",
        "iqr = q3 - q1\n",
        "lower_bound = q1 - 1.5*iqr\n",
        "upper_bound = q3 + 1.5*iqr\n",
        "\n",
        "# count the number of outliers\n",
        "outliers = np.sum((data['t1'] < lower_bound) | (data['t1'] > upper_bound))\n",
        "\n",
        "# Removing the outliers\n",
        "data['t1'] = data['t1'][(data['t1'] >= lower_bound) & (data['t1'] <= upper_bound)]\n",
        "# Remove rows with NaN values in t1 column\n",
        "data = data.dropna(subset=['t1'])\n",
        "print(\"Number of removed outliers: \", outliers)"
      ]
    },
    {
      "cell_type": "code",
      "execution_count": null,
      "metadata": {
        "colab": {
          "base_uri": "https://localhost:8080/",
          "height": 341
        },
        "id": "sMaWcBOhCJSc",
        "outputId": "84512374-f47f-4e97-ae7a-a9b9c818402f"
      },
      "outputs": [
        {
          "output_type": "display_data",
          "data": {
            "text/plain": [
              "<Figure size 600x300 with 2 Axes>"
            ],
            "image/png": "[encoded data removed]"
          },
          "metadata": {}
        }
      ],
      "source": [
        "fig, (ax1, ax2) = plt.subplots(nrows=2, figsize=(6, 3), height_ratios=(0.25, 0.75))\n",
        "# boxplot of t1\n",
        "sns.boxplot(x=data['t1'], ax=ax1)\n",
        "ax1.set_xlabel(\"real temperature in C\")\n",
        "# line plot of t1\n",
        "sns.kdeplot(x=data['t1'], ax=ax2)\n",
        "ax2.set_xlabel(\"real temperature in C\")\n",
        "\n",
        "fig.suptitle(\"Distribution of t1\")\n",
        "plt.show()"
      ]
    },
    {
      "cell_type": "code",
      "execution_count": null,
      "metadata": {
        "colab": {
          "base_uri": "https://localhost:8080/",
          "height": 341
        },
        "id": "ARUkW6D9uq0E",
        "outputId": "927cb2a9-ebb7-4883-83e1-b9427e4ae586"
      },
      "outputs": [
        {
          "output_type": "display_data",
          "data": {
            "text/plain": [
              "<Figure size 600x300 with 2 Axes>"
            ],
            "image/png": "[encoded data removed]"
          },
          "metadata": {}
        }
      ],
      "source": [
        "fig, (ax1, ax2) = plt.subplots(nrows=2, figsize=(6, 3), height_ratios=(0.25, 0.75))\n",
        "# boxplot of t2\n",
        "sns.boxplot(x=data['t2'], ax=ax1)\n",
        "ax1.set_xlabel(\"temperature in C (feels like)\")\n",
        "# line plot of t2\n",
        "sns.kdeplot(x=data['t2'], ax=ax2)\n",
        "ax2.set_xlabel(\"temperature in C (feels like)\")\n",
        "\n",
        "fig.suptitle(\"Distribution of t2\")\n",
        "plt.show()"
      ]
    },
    {
      "cell_type": "code",
      "execution_count": null,
      "metadata": {
        "colab": {
          "base_uri": "https://localhost:8080/"
        },
        "id": "e20IncpDD22c",
        "outputId": "d0e11c4d-afea-422d-f1a6-1dd980d0be2f"
      },
      "outputs": [
        {
          "output_type": "stream",
          "name": "stdout",
          "text": [
            "Number of removed outliers:  0\n"
          ]
        }
      ],
      "source": [
        "# IQR Approach\n",
        "q1, q3 = np.percentile(data['t2'], 25), np.percentile(data['t2'], 75)\n",
        "iqr = q3 - q1\n",
        "lower_bound = q1 - 1.5*iqr\n",
        "upper_bound = q3 + 1.5*iqr\n",
        "\n",
        "# count the number of outliers\n",
        "outliers = np.sum((data['t2'] < lower_bound) | (data['t2'] > upper_bound))\n",
        "\n",
        "# Removing the outliers\n",
        "data['t2'] = data['t2'][(data['t2'] >= lower_bound) & (data['t2'] <= upper_bound)]\n",
        "# Remove rows with NaN values in t2 column\n",
        "data = data.dropna(subset=['t2'])\n",
        "print(\"Number of removed outliers: \", outliers)"
      ]
    },
    {
      "cell_type": "code",
      "execution_count": null,
      "metadata": {
        "colab": {
          "base_uri": "https://localhost:8080/",
          "height": 341
        },
        "id": "LVgjSj4ODahG",
        "outputId": "9e7d1d35-9c8e-40e5-fd5b-83e01c77e29d"
      },
      "outputs": [
        {
          "output_type": "display_data",
          "data": {
            "text/plain": [
              "<Figure size 600x300 with 2 Axes>"
            ],
            "image/png": "[encoded data removed]"
          },
          "metadata": {}
        }
      ],
      "source": [
        "fig, (ax1, ax2) = plt.subplots(nrows=2, figsize=(6, 3), height_ratios=(0.25, 0.75))\n",
        "# boxplot of t2\n",
        "sns.boxplot(x=data['t2'], ax=ax1)\n",
        "ax1.set_xlabel(\"temperature in C (feels like)\")\n",
        "# line plot of t2\n",
        "sns.kdeplot(x=data['t2'], ax=ax2)\n",
        "ax2.set_xlabel(\"temperature in C (feels like)\")\n",
        "\n",
        "fig.suptitle(\"Distribution of t2\")\n",
        "plt.show()"
      ]
    },
    {
      "cell_type": "code",
      "execution_count": null,
      "metadata": {
        "colab": {
          "base_uri": "https://localhost:8080/",
          "height": 341
        },
        "id": "L3_3SqjluqjZ",
        "outputId": "a9e732fa-b5ee-4aa6-e814-6de0c2e94051"
      },
      "outputs": [
        {
          "output_type": "display_data",
          "data": {
            "text/plain": [
              "<Figure size 600x300 with 2 Axes>"
            ],
            "image/png": "[encoded data removed]"
          },
          "metadata": {}
        }
      ],
      "source": [
        "fig, (ax1, ax2) = plt.subplots(nrows=2, figsize=(6, 3), height_ratios=(0.25, 0.75))\n",
        "# boxplot of hum\n",
        "sns.boxplot(x=data['hum'], ax=ax1)\n",
        "ax1.set_xlabel(\"humidity in percentage\")\n",
        "# line plot of hum\n",
        "sns.kdeplot(x=data['hum'], ax=ax2)\n",
        "ax2.set_xlabel(\"humidity in percentage\")\n",
        "\n",
        "fig.suptitle(\"Distribution of hum\")\n",
        "plt.show()"
      ]
    },
    {
      "cell_type": "code",
      "execution_count": null,
      "metadata": {
        "colab": {
          "base_uri": "https://localhost:8080/"
        },
        "id": "jKmdbMESECAQ",
        "outputId": "ed7cfda2-2cae-4dee-f60e-31a89dd1e463"
      },
      "outputs": [
        {
          "output_type": "stream",
          "name": "stdout",
          "text": [
            "Number of removed outliers:  63\n"
          ]
        }
      ],
      "source": [
        "# IQR Approach\n",
        "q1, q3 = np.percentile(data['hum'], 25), np.percentile(data['hum'], 75)\n",
        "iqr = q3 - q1\n",
        "lower_bound = q1 - 1.5*iqr\n",
        "upper_bound = q3 + 1.5*iqr\n",
        "\n",
        "# count the number of outliers\n",
        "outliers = np.sum((data['hum'] < lower_bound) | (data['hum'] > upper_bound))\n",
        "\n",
        "# Removing the outliers\n",
        "data['hum'] = data['hum'][(data['hum'] >= lower_bound) & (data['hum'] <= upper_bound)]\n",
        "# Remove rows with NaN values in hum column\n",
        "data = data.dropna(subset=['hum'])\n",
        "print(\"Number of removed outliers: \", outliers)"
      ]
    },
    {
      "cell_type": "code",
      "execution_count": null,
      "metadata": {
        "colab": {
          "base_uri": "https://localhost:8080/",
          "height": 341
        },
        "id": "k5zafGikDknT",
        "outputId": "04d7468f-d6c6-4178-ca7c-3dbd8f875f11"
      },
      "outputs": [
        {
          "output_type": "display_data",
          "data": {
            "text/plain": [
              "<Figure size 600x300 with 2 Axes>"
            ],
            "image/png": "[encoded data removed]"
          },
          "metadata": {}
        }
      ],
      "source": [
        "fig, (ax1, ax2) = plt.subplots(nrows=2, figsize=(6, 3), height_ratios=(0.25, 0.75))\n",
        "# boxplot of hum\n",
        "sns.boxplot(x=data['hum'], ax=ax1)\n",
        "ax1.set_xlabel(\"humidity in percentage\")\n",
        "# line plot of hum\n",
        "sns.kdeplot(x=data['hum'], ax=ax2)\n",
        "ax2.set_xlabel(\"humidity in percentage\")\n",
        "\n",
        "fig.suptitle(\"Distribution of hum\")\n",
        "plt.show()"
      ]
    },
    {
      "cell_type": "code",
      "execution_count": null,
      "metadata": {
        "colab": {
          "base_uri": "https://localhost:8080/",
          "height": 341
        },
        "id": "7PK-2mkduqGp",
        "outputId": "14b61238-dc45-4d67-dfac-8efaef60b566"
      },
      "outputs": [
        {
          "output_type": "display_data",
          "data": {
            "text/plain": [
              "<Figure size 600x300 with 2 Axes>"
            ],
            "image/png": "[encoded data removed]"
          },
          "metadata": {}
        }
      ],
      "source": [
        "fig, (ax1, ax2) = plt.subplots(nrows=2, figsize=(6, 3), height_ratios=(0.25, 0.75))\n",
        "# boxplot of wind_speed\n",
        "sns.boxplot(x=data['wind_speed'], ax=ax1)\n",
        "ax1.set_xlabel(\"wind speed in km/h\")\n",
        "# line plot of wind_speed\n",
        "sns.kdeplot(x=data['wind_speed'], ax=ax2)\n",
        "ax2.set_xlabel(\"wind speed in km/h\")\n",
        "\n",
        "fig.suptitle(\"Distribution of wind_speed\")\n",
        "plt.show()"
      ]
    },
    {
      "cell_type": "code",
      "execution_count": null,
      "metadata": {
        "colab": {
          "base_uri": "https://localhost:8080/"
        },
        "id": "wihEa325EOth",
        "outputId": "f85ed00a-7667-4a0c-f725-07fa8da81533"
      },
      "outputs": [
        {
          "output_type": "stream",
          "name": "stdout",
          "text": [
            "Number of removed outliers:  236\n"
          ]
        }
      ],
      "source": [
        "# IQR Approach\n",
        "q1, q3 = np.percentile(data['wind_speed'], 25), np.percentile(data['wind_speed'], 75)\n",
        "iqr = q3 - q1\n",
        "lower_bound = q1 - 1.5*iqr\n",
        "upper_bound = q3 + 1.5*iqr\n",
        "\n",
        "# count the number of outliers\n",
        "outliers = np.sum((data['wind_speed'] < lower_bound) | (data['wind_speed'] > upper_bound))\n",
        "\n",
        "# Removing the outliers\n",
        "data['wind_speed'] = data['wind_speed'][(data['wind_speed'] >= lower_bound) & (data['wind_speed'] <= upper_bound)]\n",
        "# Remove rows with NaN values in wind_speed column\n",
        "data = data.dropna(subset=['wind_speed'])\n",
        "print(\"Number of removed outliers: \", outliers)"
      ]
    },
    {
      "cell_type": "code",
      "execution_count": null,
      "metadata": {
        "colab": {
          "base_uri": "https://localhost:8080/",
          "height": 341
        },
        "id": "Y_95w--eDm11",
        "outputId": "dcaf98e6-bffc-4797-f26f-288f91c49601"
      },
      "outputs": [
        {
          "output_type": "display_data",
          "data": {
            "text/plain": [
              "<Figure size 600x300 with 2 Axes>"
            ],
            "image/png": "[encoded data removed]"
          },
          "metadata": {}
        }
      ],
      "source": [
        "fig, (ax1, ax2) = plt.subplots(nrows=2, figsize=(6, 3), height_ratios=(0.25, 0.75))\n",
        "# boxplot of wind_speed\n",
        "sns.boxplot(x=data['wind_speed'], ax=ax1)\n",
        "ax1.set_xlabel(\"wind speed in km/h\")\n",
        "# line plot of wind_speed\n",
        "sns.kdeplot(x=data['wind_speed'], ax=ax2)\n",
        "ax2.set_xlabel(\"wind speed in km/h\")\n",
        "\n",
        "fig.suptitle(\"Distribution of wind_speed\")\n",
        "plt.show()"
      ]
    },
    {
      "cell_type": "code",
      "execution_count": null,
      "metadata": {
        "colab": {
          "base_uri": "https://localhost:8080/",
          "height": 341
        },
        "id": "q9M2RVLHupcL",
        "outputId": "61cff9d4-4acd-417c-ef73-bc4aad72137e"
      },
      "outputs": [
        {
          "output_type": "display_data",
          "data": {
            "text/plain": [
              "<Figure size 600x300 with 2 Axes>"
            ],
            "image/png": "[encoded data removed]"
          },
          "metadata": {}
        }
      ],
      "source": [
        "fig, (ax1, ax2) = plt.subplots(nrows=2, figsize=(6, 3), height_ratios=(0.25, 0.75))\n",
        "# boxplot of cnt\n",
        "sns.boxplot(x=data['cnt'], ax=ax1)\n",
        "ax1.set_xlabel(\"the count of new bike shares\")\n",
        "# line plot of cnt\n",
        "sns.kdeplot(x=data['cnt'], ax=ax2)\n",
        "ax2.set_xlabel(\"the count of new bike shares\")\n",
        "\n",
        "fig.suptitle(\"Distribution of cnt\")\n",
        "plt.show()"
      ]
    },
    {
      "cell_type": "markdown",
      "metadata": {
        "id": "LKOqSqEDzKfJ"
      },
      "source": [
        "We need to transform cnt as there are a lot of outliers. Boxcox transformation is suitable here. Since we may have zeros in cnt, we apply a shifted boxcox transformation by adding 1."
      ]
    },
    {
      "cell_type": "code",
      "execution_count": null,
      "metadata": {
        "id": "3Dhmab5JzJFS"
      },
      "outputs": [],
      "source": [
        "#Transforming cnt using shifted square root transformation\n",
        "new_cnt = np.sqrt(data['cnt'])\n",
        "data['cnt'] = new_cnt"
      ]
    },
    {
      "cell_type": "code",
      "execution_count": null,
      "metadata": {
        "colab": {
          "base_uri": "https://localhost:8080/"
        },
        "id": "XEE7xYqQBXiz",
        "outputId": "3c168408-cf89-4551-a7bf-cdd1ccc1daf8"
      },
      "outputs": [
        {
          "output_type": "stream",
          "name": "stdout",
          "text": [
            "Number of removed outliers:  4\n"
          ]
        }
      ],
      "source": [
        "# IQR Approach\n",
        "q1, q3 = np.percentile(data['cnt'], 25), np.percentile(data['cnt'], 75)\n",
        "iqr = q3 - q1\n",
        "lower_bound = q1 - 1.5*iqr\n",
        "upper_bound = q3 + 1.5*iqr\n",
        "\n",
        "# count the number of outliers\n",
        "outliers = np.sum((data['cnt'] < lower_bound) | (data['cnt'] > upper_bound))\n",
        "\n",
        "# Removing the outliers\n",
        "data['cnt'] = data['cnt'][(data['cnt'] >= lower_bound) & (data['cnt'] <= upper_bound)]\n",
        "# Remove rows with NaN values in wind_speed column\n",
        "data = data.dropna(subset=['cnt'])\n",
        "print(\"Number of removed outliers: \", outliers)"
      ]
    },
    {
      "cell_type": "code",
      "execution_count": null,
      "metadata": {
        "colab": {
          "base_uri": "https://localhost:8080/",
          "height": 341
        },
        "id": "nesyV1yju6Wy",
        "outputId": "e8a5dcb2-ad0d-4928-fef7-5cdc5f3ea468"
      },
      "outputs": [
        {
          "output_type": "display_data",
          "data": {
            "text/plain": [
              "<Figure size 600x300 with 2 Axes>"
            ],
            "image/png": "[encoded data removed]"
          },
          "metadata": {}
        }
      ],
      "source": [
        "fig, (ax1, ax2) = plt.subplots(nrows=2, figsize=(6, 3), height_ratios=(0.25, 0.75))\n",
        "# boxplot of cnt\n",
        "sns.boxplot(x=data['cnt'], ax=ax1)\n",
        "ax1.set_xlabel(\"the count of new bike shares\")\n",
        "# line plot of cnt\n",
        "sns.kdeplot(x=data['cnt'], ax=ax2)\n",
        "ax2.set_xlabel(\"the count of new bike shares\")\n",
        "\n",
        "fig.suptitle(\"Distribution of cnt\")\n",
        "plt.show()"
      ]
    },
    {
      "cell_type": "markdown",
      "metadata": {
        "id": "5B9KWyDU4l-t"
      },
      "source": [
        "# Expanding the timestamp"
      ]
    },
    {
      "cell_type": "markdown",
      "metadata": {
        "id": "Hscw9M4fIrL8"
      },
      "source": [
        "For better understanding of the data, we will split the timestamp into year, month, day_in_month, and hour_in_day."
      ]
    },
    {
      "cell_type": "code",
      "execution_count": null,
      "metadata": {
        "id": "Jrm1OaVWI_aL"
      },
      "outputs": [],
      "source": [
        "# Convert the timestamp attribute into datetime format\n",
        "data['timestamp'] = pd.to_datetime(data['timestamp'])\n",
        "\n",
        "# Extract the year, month, day_in_month, and hour_in_day from the timestamp column\n",
        "data['year'] = data['timestamp'].dt.year\n",
        "data['month'] = data['timestamp'].dt.month\n",
        "data['day_in_month'] = data['timestamp'].dt.day\n",
        "data['day_in_week'] = data['timestamp'].dt.weekday\n",
        "data['hour_in_day'] = data['timestamp'].dt.hour\n",
        "\n",
        "# Drop the original timestamp column\n",
        "data.drop(['timestamp'], axis=1, inplace=True)"
      ]
    },
    {
      "cell_type": "code",
      "execution_count": null,
      "metadata": {
        "colab": {
          "base_uri": "https://localhost:8080/",
          "height": 206
        },
        "id": "yxyVMg4D43TZ",
        "outputId": "6b56fbc5-e530-4036-978b-bb6246f9ec30"
      },
      "outputs": [
        {
          "output_type": "execute_result",
          "data": {
            "text/plain": [
              "         cnt   t1   t2    hum  wind_speed  weather_code  is_holiday  \\\n",
              "0  13.490738  3.0  2.0   93.0         6.0           3.0         0.0   \n",
              "1  11.747340  3.0  2.5   93.0         5.0           1.0         0.0   \n",
              "2  11.575837  2.5  2.5   96.5         0.0           1.0         0.0   \n",
              "3   8.485281  2.0  2.0  100.0         0.0           1.0         0.0   \n",
              "4   6.855655  2.0  0.0   93.0         6.5           1.0         0.0   \n",
              "\n",
              "   is_weekend  season  year  month  day_in_month  day_in_week  hour_in_day  \n",
              "0         1.0     3.0  2015      1             4            6            0  \n",
              "1         1.0     3.0  2015      1             4            6            1  \n",
              "2         1.0     3.0  2015      1             4            6            2  \n",
              "3         1.0     3.0  2015      1             4            6            3  \n",
              "4         1.0     3.0  2015      1             4            6            4  "
            ],
            "text/html": [
              "\n",
              "  <div id=\"df-041e2127-fde1-463c-89dd-6db148f4b2d1\">\n",
              "    <div class=\"colab-df-container\">\n",
              "      <div>\n",
              "<style scoped>\n",
              "    .dataframe tbody tr th:only-of-type {\n",
              "        vertical-align: middle;\n",
              "    }\n",
              "\n",
              "    .dataframe tbody tr th {\n",
              "        vertical-align: top;\n",
              "    }\n",
              "\n",
              "    .dataframe thead th {\n",
              "        text-align: right;\n",
              "    }\n",
              "</style>\n",
              "<table border=\"1\" class=\"dataframe\">\n",
              "  <thead>\n",
              "    <tr style=\"text-align: right;\">\n",
              "      <th></th>\n",
              "      <th>cnt</th>\n",
              "      <th>t1</th>\n",
              "      <th>t2</th>\n",
              "      <th>hum</th>\n",
              "      <th>wind_speed</th>\n",
              "      <th>weather_code</th>\n",
              "      <th>is_holiday</th>\n",
              "      <th>is_weekend</th>\n",
              "      <th>season</th>\n",
              "      <th>year</th>\n",
              "      <th>month</th>\n",
              "      <th>day_in_month</th>\n",
              "      <th>day_in_week</th>\n",
              "      <th>hour_in_day</th>\n",
              "    </tr>\n",
              "  </thead>\n",
              "  <tbody>\n",
              "    <tr>\n",
              "      <th>0</th>\n",
              "      <td>13.490738</td>\n",
              "      <td>3.0</td>\n",
              "      <td>2.0</td>\n",
              "      <td>93.0</td>\n",
              "      <td>6.0</td>\n",
              "      <td>3.0</td>\n",
              "      <td>0.0</td>\n",
              "      <td>1.0</td>\n",
              "      <td>3.0</td>\n",
              "      <td>2015</td>\n",
              "      <td>1</td>\n",
              "      <td>4</td>\n",
              "      <td>6</td>\n",
              "      <td>0</td>\n",
              "    </tr>\n",
              "    <tr>\n",
              "      <th>1</th>\n",
              "      <td>11.747340</td>\n",
              "      <td>3.0</td>\n",
              "      <td>2.5</td>\n",
              "      <td>93.0</td>\n",
              "      <td>5.0</td>\n",
              "      <td>1.0</td>\n",
              "      <td>0.0</td>\n",
              "      <td>1.0</td>\n",
              "      <td>3.0</td>\n",
              "      <td>2015</td>\n",
              "      <td>1</td>\n",
              "      <td>4</td>\n",
              "      <td>6</td>\n",
              "      <td>1</td>\n",
              "    </tr>\n",
              "    <tr>\n",
              "      <th>2</th>\n",
              "      <td>11.575837</td>\n",
              "      <td>2.5</td>\n",
              "      <td>2.5</td>\n",
              "      <td>96.5</td>\n",
              "      <td>0.0</td>\n",
              "      <td>1.0</td>\n",
              "      <td>0.0</td>\n",
              "      <td>1.0</td>\n",
              "      <td>3.0</td>\n",
              "      <td>2015</td>\n",
              "      <td>1</td>\n",
              "      <td>4</td>\n",
              "      <td>6</td>\n",
              "      <td>2</td>\n",
              "    </tr>\n",
              "    <tr>\n",
              "      <th>3</th>\n",
              "      <td>8.485281</td>\n",
              "      <td>2.0</td>\n",
              "      <td>2.0</td>\n",
              "      <td>100.0</td>\n",
              "      <td>0.0</td>\n",
              "      <td>1.0</td>\n",
              "      <td>0.0</td>\n",
              "      <td>1.0</td>\n",
              "      <td>3.0</td>\n",
              "      <td>2015</td>\n",
              "      <td>1</td>\n",
              "      <td>4</td>\n",
              "      <td>6</td>\n",
              "      <td>3</td>\n",
              "    </tr>\n",
              "    <tr>\n",
              "      <th>4</th>\n",
              "      <td>6.855655</td>\n",
              "      <td>2.0</td>\n",
              "      <td>0.0</td>\n",
              "      <td>93.0</td>\n",
              "      <td>6.5</td>\n",
              "      <td>1.0</td>\n",
              "      <td>0.0</td>\n",
              "      <td>1.0</td>\n",
              "      <td>3.0</td>\n",
              "      <td>2015</td>\n",
              "      <td>1</td>\n",
              "      <td>4</td>\n",
              "      <td>6</td>\n",
              "      <td>4</td>\n",
              "    </tr>\n",
              "  </tbody>\n",
              "</table>\n",
              "</div>\n",
              "      <button class=\"colab-df-convert\" onclick=\"convertToInteractive('df-041e2127-fde1-463c-89dd-6db148f4b2d1')\"\n",
              "              title=\"Convert this dataframe to an interactive table.\"\n",
              "              style=\"display:none;\">\n",
              "        \n",
              "  <svg xmlns=\"http://www.w3.org/2000/svg\" height=\"24px\"viewBox=\"0 0 24 24\"\n",
              "       width=\"24px\">\n",
              "    <path d=\"M0 0h24v24H0V0z\" fill=\"none\"/>\n",
              "    <path d=\"M18.56 5.44l.94 2.06.94-2.06 2.06-.94-2.06-.94-.94-2.06-.94 2.06-2.06.94zm-11 1L8.5 8.5l.94-2.06 2.06-.94-2.06-.94L8.5 2.5l-.94 2.06-2.06.94zm10 10l.94 2.06.94-2.06 2.06-.94-2.06-.94-.94-2.06-.94 2.06-2.06.94z\"/><path d=\"M17.41 7.96l-1.37-1.37c-.4-.4-.92-.59-1.43-.59-.52 0-1.04.2-1.43.59L10.3 9.45l-7.72 7.72c-.78.78-.78 2.05 0 2.83L4 21.41c.39.39.9.59 1.41.59.51 0 1.02-.2 1.41-.59l7.78-7.78 2.81-2.81c.8-.78.8-2.07 0-2.86zM5.41 20L4 18.59l7.72-7.72 1.47 1.35L5.41 20z\"/>\n",
              "  </svg>\n",
              "      </button>\n",
              "      \n",
              "  <style>\n",
              "    .colab-df-container {\n",
              "      display:flex;\n",
              "      flex-wrap:wrap;\n",
              "      gap: 12px;\n",
              "    }\n",
              "\n",
              "    .colab-df-convert {\n",
              "      background-color: #E8F0FE;\n",
              "      border: none;\n",
              "      border-radius: 50%;\n",
              "      cursor: pointer;\n",
              "      display: none;\n",
              "      fill: #1967D2;\n",
              "      height: 32px;\n",
              "      padding: 0 0 0 0;\n",
              "      width: 32px;\n",
              "    }\n",
              "\n",
              "    .colab-df-convert:hover {\n",
              "      background-color: #E2EBFA;\n",
              "      box-shadow: 0px 1px 2px rgba(60, 64, 67, 0.3), 0px 1px 3px 1px rgba(60, 64, 67, 0.15);\n",
              "      fill: #174EA6;\n",
              "    }\n",
              "\n",
              "    [theme=dark] .colab-df-convert {\n",
              "      background-color: #3B4455;\n",
              "      fill: #D2E3FC;\n",
              "    }\n",
              "\n",
              "    [theme=dark] .colab-df-convert:hover {\n",
              "      background-color: #434B5C;\n",
              "      box-shadow: 0px 1px 3px 1px rgba(0, 0, 0, 0.15);\n",
              "      filter: drop-shadow(0px 1px 2px rgba(0, 0, 0, 0.3));\n",
              "      fill: #FFFFFF;\n",
              "    }\n",
              "  </style>\n",
              "\n",
              "      <script>\n",
              "        const buttonEl =\n",
              "          document.querySelector('#df-041e2127-fde1-463c-89dd-6db148f4b2d1 button.colab-df-convert');\n",
              "        buttonEl.style.display =\n",
              "          google.colab.kernel.accessAllowed ? 'block' : 'none';\n",
              "\n",
              "        async function convertToInteractive(key) {\n",
              "          const element = document.querySelector('#df-041e2127-fde1-463c-89dd-6db148f4b2d1');\n",
              "          const dataTable =\n",
              "            await google.colab.kernel.invokeFunction('convertToInteractive',\n",
              "                                                     [key], {});\n",
              "          if (!dataTable) return;\n",
              "\n",
              "          const docLinkHtml = 'Like what you see? Visit the ' +\n",
              "            '<a target=\"_blank\" href=https://colab.research.google.com/notebooks/data_table.ipynb>data table notebook</a>'\n",
              "            + ' to learn more about interactive tables.';\n",
              "          element.innerHTML = '';\n",
              "          dataTable['output_type'] = 'display_data';\n",
              "          await google.colab.output.renderOutput(dataTable, element);\n",
              "          const docLink = document.createElement('div');\n",
              "          docLink.innerHTML = docLinkHtml;\n",
              "          element.appendChild(docLink);\n",
              "        }\n",
              "      </script>\n",
              "    </div>\n",
              "  </div>\n",
              "  "
            ]
          },
          "metadata": {},
          "execution_count": 33
        }
      ],
      "source": [
        "data.head()"
      ]
    },
    {
      "cell_type": "code",
      "execution_count": null,
      "metadata": {
        "colab": {
          "base_uri": "https://localhost:8080/",
          "height": 391
        },
        "id": "aH4fpIpEyLF6",
        "outputId": "36846fb0-4b63-46e3-db41-2806282e8b25"
      },
      "outputs": [
        {
          "output_type": "display_data",
          "data": {
            "text/plain": [
              "<Figure size 500x400 with 2 Axes>"
            ],
            "image/png": "[encoded data removed]"
          },
          "metadata": {}
        }
      ],
      "source": [
        "# Plot heatmap of correlation matrix\n",
        "plt.figure(figsize=(5, 4))\n",
        "sns.heatmap(data.corr()[['cnt']].sort_values(by='cnt', ascending=False), cmap='coolwarm', annot=True)\n",
        "plt.title('Correlation of each column with cnt')\n",
        "plt.show()"
      ]
    },
    {
      "cell_type": "markdown",
      "metadata": {
        "id": "iRRnEAYbQ9nE"
      },
      "source": [
        "The year and day_in_month will not add any value to our model so we can drop them."
      ]
    },
    {
      "cell_type": "code",
      "execution_count": null,
      "metadata": {
        "colab": {
          "base_uri": "https://localhost:8080/",
          "height": 206
        },
        "id": "B7DG6usCQtLM",
        "outputId": "6d321dd7-cc2c-4716-e887-ed20926dcbbc"
      },
      "outputs": [
        {
          "output_type": "execute_result",
          "data": {
            "text/plain": [
              "         cnt   t1   t2    hum  wind_speed  weather_code  is_holiday  \\\n",
              "0  13.490738  3.0  2.0   93.0         6.0           3.0         0.0   \n",
              "1  11.747340  3.0  2.5   93.0         5.0           1.0         0.0   \n",
              "2  11.575837  2.5  2.5   96.5         0.0           1.0         0.0   \n",
              "3   8.485281  2.0  2.0  100.0         0.0           1.0         0.0   \n",
              "4   6.855655  2.0  0.0   93.0         6.5           1.0         0.0   \n",
              "\n",
              "   is_weekend  season  month  day_in_week  hour_in_day  \n",
              "0         1.0     3.0      1            6            0  \n",
              "1         1.0     3.0      1            6            1  \n",
              "2         1.0     3.0      1            6            2  \n",
              "3         1.0     3.0      1            6            3  \n",
              "4         1.0     3.0      1            6            4  "
            ],
            "text/html": [
              "\n",
              "  <div id=\"df-f5379cad-9b30-46e5-9128-f38a7eabd656\">\n",
              "    <div class=\"colab-df-container\">\n",
              "      <div>\n",
              "<style scoped>\n",
              "    .dataframe tbody tr th:only-of-type {\n",
              "        vertical-align: middle;\n",
              "    }\n",
              "\n",
              "    .dataframe tbody tr th {\n",
              "        vertical-align: top;\n",
              "    }\n",
              "\n",
              "    .dataframe thead th {\n",
              "        text-align: right;\n",
              "    }\n",
              "</style>\n",
              "<table border=\"1\" class=\"dataframe\">\n",
              "  <thead>\n",
              "    <tr style=\"text-align: right;\">\n",
              "      <th></th>\n",
              "      <th>cnt</th>\n",
              "      <th>t1</th>\n",
              "      <th>t2</th>\n",
              "      <th>hum</th>\n",
              "      <th>wind_speed</th>\n",
              "      <th>weather_code</th>\n",
              "      <th>is_holiday</th>\n",
              "      <th>is_weekend</th>\n",
              "      <th>season</th>\n",
              "      <th>month</th>\n",
              "      <th>day_in_week</th>\n",
              "      <th>hour_in_day</th>\n",
              "    </tr>\n",
              "  </thead>\n",
              "  <tbody>\n",
              "    <tr>\n",
              "      <th>0</th>\n",
              "      <td>13.490738</td>\n",
              "      <td>3.0</td>\n",
              "      <td>2.0</td>\n",
              "      <td>93.0</td>\n",
              "      <td>6.0</td>\n",
              "      <td>3.0</td>\n",
              "      <td>0.0</td>\n",
              "      <td>1.0</td>\n",
              "      <td>3.0</td>\n",
              "      <td>1</td>\n",
              "      <td>6</td>\n",
              "      <td>0</td>\n",
              "    </tr>\n",
              "    <tr>\n",
              "      <th>1</th>\n",
              "      <td>11.747340</td>\n",
              "      <td>3.0</td>\n",
              "      <td>2.5</td>\n",
              "      <td>93.0</td>\n",
              "      <td>5.0</td>\n",
              "      <td>1.0</td>\n",
              "      <td>0.0</td>\n",
              "      <td>1.0</td>\n",
              "      <td>3.0</td>\n",
              "      <td>1</td>\n",
              "      <td>6</td>\n",
              "      <td>1</td>\n",
              "    </tr>\n",
              "    <tr>\n",
              "      <th>2</th>\n",
              "      <td>11.575837</td>\n",
              "      <td>2.5</td>\n",
              "      <td>2.5</td>\n",
              "      <td>96.5</td>\n",
              "      <td>0.0</td>\n",
              "      <td>1.0</td>\n",
              "      <td>0.0</td>\n",
              "      <td>1.0</td>\n",
              "      <td>3.0</td>\n",
              "      <td>1</td>\n",
              "      <td>6</td>\n",
              "      <td>2</td>\n",
              "    </tr>\n",
              "    <tr>\n",
              "      <th>3</th>\n",
              "      <td>8.485281</td>\n",
              "      <td>2.0</td>\n",
              "      <td>2.0</td>\n",
              "      <td>100.0</td>\n",
              "      <td>0.0</td>\n",
              "      <td>1.0</td>\n",
              "      <td>0.0</td>\n",
              "      <td>1.0</td>\n",
              "      <td>3.0</td>\n",
              "      <td>1</td>\n",
              "      <td>6</td>\n",
              "      <td>3</td>\n",
              "    </tr>\n",
              "    <tr>\n",
              "      <th>4</th>\n",
              "      <td>6.855655</td>\n",
              "      <td>2.0</td>\n",
              "      <td>0.0</td>\n",
              "      <td>93.0</td>\n",
              "      <td>6.5</td>\n",
              "      <td>1.0</td>\n",
              "      <td>0.0</td>\n",
              "      <td>1.0</td>\n",
              "      <td>3.0</td>\n",
              "      <td>1</td>\n",
              "      <td>6</td>\n",
              "      <td>4</td>\n",
              "    </tr>\n",
              "  </tbody>\n",
              "</table>\n",
              "</div>\n",
              "      <button class=\"colab-df-convert\" onclick=\"convertToInteractive('df-f5379cad-9b30-46e5-9128-f38a7eabd656')\"\n",
              "              title=\"Convert this dataframe to an interactive table.\"\n",
              "              style=\"display:none;\">\n",
              "        \n",
              "  <svg xmlns=\"http://www.w3.org/2000/svg\" height=\"24px\"viewBox=\"0 0 24 24\"\n",
              "       width=\"24px\">\n",
              "    <path d=\"M0 0h24v24H0V0z\" fill=\"none\"/>\n",
              "    <path d=\"M18.56 5.44l.94 2.06.94-2.06 2.06-.94-2.06-.94-.94-2.06-.94 2.06-2.06.94zm-11 1L8.5 8.5l.94-2.06 2.06-.94-2.06-.94L8.5 2.5l-.94 2.06-2.06.94zm10 10l.94 2.06.94-2.06 2.06-.94-2.06-.94-.94-2.06-.94 2.06-2.06.94z\"/><path d=\"M17.41 7.96l-1.37-1.37c-.4-.4-.92-.59-1.43-.59-.52 0-1.04.2-1.43.59L10.3 9.45l-7.72 7.72c-.78.78-.78 2.05 0 2.83L4 21.41c.39.39.9.59 1.41.59.51 0 1.02-.2 1.41-.59l7.78-7.78 2.81-2.81c.8-.78.8-2.07 0-2.86zM5.41 20L4 18.59l7.72-7.72 1.47 1.35L5.41 20z\"/>\n",
              "  </svg>\n",
              "      </button>\n",
              "      \n",
              "  <style>\n",
              "    .colab-df-container {\n",
              "      display:flex;\n",
              "      flex-wrap:wrap;\n",
              "      gap: 12px;\n",
              "    }\n",
              "\n",
              "    .colab-df-convert {\n",
              "      background-color: #E8F0FE;\n",
              "      border: none;\n",
              "      border-radius: 50%;\n",
              "      cursor: pointer;\n",
              "      display: none;\n",
              "      fill: #1967D2;\n",
              "      height: 32px;\n",
              "      padding: 0 0 0 0;\n",
              "      width: 32px;\n",
              "    }\n",
              "\n",
              "    .colab-df-convert:hover {\n",
              "      background-color: #E2EBFA;\n",
              "      box-shadow: 0px 1px 2px rgba(60, 64, 67, 0.3), 0px 1px 3px 1px rgba(60, 64, 67, 0.15);\n",
              "      fill: #174EA6;\n",
              "    }\n",
              "\n",
              "    [theme=dark] .colab-df-convert {\n",
              "      background-color: #3B4455;\n",
              "      fill: #D2E3FC;\n",
              "    }\n",
              "\n",
              "    [theme=dark] .colab-df-convert:hover {\n",
              "      background-color: #434B5C;\n",
              "      box-shadow: 0px 1px 3px 1px rgba(0, 0, 0, 0.15);\n",
              "      filter: drop-shadow(0px 1px 2px rgba(0, 0, 0, 0.3));\n",
              "      fill: #FFFFFF;\n",
              "    }\n",
              "  </style>\n",
              "\n",
              "      <script>\n",
              "        const buttonEl =\n",
              "          document.querySelector('#df-f5379cad-9b30-46e5-9128-f38a7eabd656 button.colab-df-convert');\n",
              "        buttonEl.style.display =\n",
              "          google.colab.kernel.accessAllowed ? 'block' : 'none';\n",
              "\n",
              "        async function convertToInteractive(key) {\n",
              "          const element = document.querySelector('#df-f5379cad-9b30-46e5-9128-f38a7eabd656');\n",
              "          const dataTable =\n",
              "            await google.colab.kernel.invokeFunction('convertToInteractive',\n",
              "                                                     [key], {});\n",
              "          if (!dataTable) return;\n",
              "\n",
              "          const docLinkHtml = 'Like what you see? Visit the ' +\n",
              "            '<a target=\"_blank\" href=https://colab.research.google.com/notebooks/data_table.ipynb>data table notebook</a>'\n",
              "            + ' to learn more about interactive tables.';\n",
              "          element.innerHTML = '';\n",
              "          dataTable['output_type'] = 'display_data';\n",
              "          await google.colab.output.renderOutput(dataTable, element);\n",
              "          const docLink = document.createElement('div');\n",
              "          docLink.innerHTML = docLinkHtml;\n",
              "          element.appendChild(docLink);\n",
              "        }\n",
              "      </script>\n",
              "    </div>\n",
              "  </div>\n",
              "  "
            ]
          },
          "metadata": {},
          "execution_count": 35
        }
      ],
      "source": [
        "data.drop(['day_in_month', 'year'], axis=1, inplace=True)\n",
        "data.head()"
      ]
    },
    {
      "cell_type": "markdown",
      "metadata": {
        "id": "iWbRFeGuQc8y"
      },
      "source": [
        "# Encoding categorical data and splitting data into training and testing sets"
      ]
    },
    {
      "cell_type": "markdown",
      "metadata": {
        "id": "a6sFI3CdcPyz"
      },
      "source": [
        "is_holiday and is_weekend are also categorical but we do not need to encode them because they are already in binary."
      ]
    },
    {
      "cell_type": "code",
      "execution_count": null,
      "metadata": {
        "id": "G-xJ9HJYRyWx"
      },
      "outputs": [],
      "source": [
        "# categorical columns\n",
        "cat_cols = ['weather_code', 'season', 'month', 'day_in_week', 'hour_in_day']\n",
        "\n",
        "# Encode categorical columns using OneHotEncoder\n",
        "encoder = OneHotEncoder(sparse_output=False, handle_unknown='ignore')\n",
        "encoded_cols = pd.DataFrame(encoder.fit_transform(data[cat_cols]))\n",
        "\n",
        "# Replace categorical columns with encoded columns in the dataset\n",
        "data_encoded = data.drop(cat_cols, axis=1)\n",
        "data_encoded = pd.concat([data_encoded.reset_index(drop=True), encoded_cols.reset_index(drop=True)], axis=1)"
      ]
    },
    {
      "cell_type": "code",
      "execution_count": null,
      "metadata": {
        "id": "5QiK_ee5UNUH"
      },
      "outputs": [],
      "source": [
        "from sklearn.model_selection import train_test_split\n",
        "\n",
        "X = data_encoded.drop(['cnt'], axis=1)\n",
        "y = data_encoded['cnt']\n",
        "\n",
        "X.columns = X.columns.astype(str)\n",
        "X_train, X_test, y_train, y_test = train_test_split(X, y, test_size=0.3, random_state=32, shuffle=True)\n"
      ]
    },
    {
      "cell_type": "markdown",
      "metadata": {
        "id": "gcUrSFjZnW-g"
      },
      "source": [
        "# Training"
      ]
    },
    {
      "cell_type": "markdown",
      "metadata": {
        "id": "2y4ut0owCUNj"
      },
      "source": [
        "##Through Linear Regression"
      ]
    },
    {
      "cell_type": "code",
      "execution_count": null,
      "metadata": {
        "colab": {
          "base_uri": "https://localhost:8080/"
        },
        "id": "MnK0BQ98VKz0",
        "outputId": "b81713ed-0bc1-44b0-af4f-9321bd116a2c"
      },
      "outputs": [
        {
          "output_type": "stream",
          "name": "stdout",
          "text": [
            "R-squared score: 0.785100004018948\n",
            "R-squared score: 0.8002021608937266\n"
          ]
        }
      ],
      "source": [
        "from sklearn.linear_model import LinearRegression\n",
        "from sklearn.metrics import r2_score\n",
        "# Create a Linear Regression model\n",
        "model = LinearRegression()\n",
        "\n",
        "# Train the model on the training set\n",
        "model.fit(X_train, y_train)\n",
        "\n",
        "y_preds = model.predict(X_train)\n",
        "y_preds_ = model.predict(X_test)\n",
        "\n",
        "# Evaluate the performance of the model using R-squared score\n",
        "r21 = r2_score(y_train, y_preds)\n",
        "r22 = r2_score(y_test, y_preds_)\n",
        "print('R-squared score:', r21)\n",
        "print('R-squared score:', r22)"
      ]
    },
    {
      "cell_type": "markdown",
      "metadata": {
        "id": "T4iIEZoTCZVh"
      },
      "source": [
        "##Through Random Forest Regressor"
      ]
    },
    {
      "cell_type": "code",
      "execution_count": null,
      "metadata": {
        "colab": {
          "base_uri": "https://localhost:8080/"
        },
        "id": "g_F7CDt8pneE",
        "outputId": "29adebcc-92bb-46ac-db2e-f40944bbd1d4"
      },
      "outputs": [
        {
          "output_type": "stream",
          "name": "stdout",
          "text": [
            "R-squared score: 0.9941810576071703\n",
            "R-squared score: 0.9578930766848409\n"
          ]
        }
      ],
      "source": [
        "from sklearn.ensemble import RandomForestRegressor\n",
        "rf_model = RandomForestRegressor(n_estimators=500, random_state=42)\n",
        "\n",
        "# fit the model to the training data\n",
        "rf_model.fit(X_train, y_train)\n",
        "\n",
        "y_preds = rf_model.predict(X_train)\n",
        "y_preds_ = rf_model.predict(X_test)\n",
        "\n",
        "# Evaluate the performance of the model using R-squared score\n",
        "r21 = r2_score(y_train, y_preds)\n",
        "r22 = r2_score(y_test, y_preds_)\n",
        "print('R-squared score:', r21)\n",
        "print('R-squared score:', r22)"
      ]
    },
    {
      "cell_type": "markdown",
      "metadata": {
        "id": "FlFp-nwCCiV2"
      },
      "source": [
        "##Through Gradient Boosting Regressor"
      ]
    },
    {
      "cell_type": "code",
      "execution_count": null,
      "metadata": {
        "colab": {
          "base_uri": "https://localhost:8080/"
        },
        "id": "QufB68rCp9jZ",
        "outputId": "e3dbf38c-9a29-4766-a8ce-6e106bc547ff"
      },
      "outputs": [
        {
          "output_type": "stream",
          "name": "stdout",
          "text": [
            "R-squared score: 0.9474559298250834\n",
            "R-squared score: 0.9450420675047491\n"
          ]
        }
      ],
      "source": [
        "from sklearn.ensemble import GradientBoostingRegressor\n",
        "gb_model = GradientBoostingRegressor(n_estimators=100, learning_rate=0.3, random_state=42)\n",
        "\n",
        "# fit the model to the training data\n",
        "gb_model.fit(X_train, y_train)\n",
        "\n",
        "y_preds = gb_model.predict(X_train)\n",
        "y_preds_ = gb_model.predict(X_test)\n",
        "\n",
        "# Evaluate the performance of the model using R-squared score\n",
        "r21 = r2_score(y_train, y_preds)\n",
        "r22 = r2_score(y_test, y_preds_)\n",
        "print('R-squared score:', r21)\n",
        "print('R-squared score:', r22)"
      ]
    },
    {
      "cell_type": "markdown",
      "metadata": {
        "id": "bYpP7N_VCjgP"
      },
      "source": [
        "##Through Neural Network"
      ]
    },
    {
      "cell_type": "code",
      "execution_count": null,
      "metadata": {
        "id": "WJ--IExUNwgJ"
      },
      "outputs": [],
      "source": [
        "import tensorflow as tf\n",
        "from tensorflow import keras\n",
        "\n",
        "# Define the model\n",
        "model = keras.Sequential([\n",
        "    keras.layers.Dense(1, input_shape=[len(X_train.columns)])\n",
        "])\n",
        "\n",
        "# Compile the model\n",
        "model.compile(loss='mse',\n",
        "              optimizer=tf.keras.optimizers.Adam(0.001))\n",
        "\n",
        "# Train the model\n",
        "history = model.fit(X_train, y_train, validation_data=(X_test, y_test), epochs=200, verbose=0)\n"
      ]
    },
    {
      "cell_type": "code",
      "execution_count": null,
      "metadata": {
        "colab": {
          "base_uri": "https://localhost:8080/"
        },
        "id": "PRXln21EPQw5",
        "outputId": "25850fa4-c4ef-435f-a9e9-df0ca50d7d14"
      },
      "outputs": [
        {
          "output_type": "stream",
          "name": "stdout",
          "text": [
            "373/373 [==============================] - 1s 2ms/step\n",
            "160/160 [==============================] - 0s 1ms/step\n",
            "R-squared score: 0.7814768713856983\n",
            "R-squared score: 0.7968349587955732\n"
          ]
        }
      ],
      "source": [
        "y_preds = model.predict(X_train)\n",
        "y_preds_ = model.predict(X_test)\n",
        "\n",
        "# Evaluate the performance of the model using R-squared score\n",
        "r21 = r2_score(y_train, y_preds)\n",
        "r22 = r2_score(y_test, y_preds_)\n",
        "print('R-squared score:', r21)\n",
        "print('R-squared score:', r22)"
      ]
    },
    {
      "cell_type": "markdown",
      "metadata": {
        "id": "_pRpv9CZCBHA"
      },
      "source": [
        "Comparing scores of all 4 models (70:30), we observe that Random Forest regressor has a score of 0.945 and Neural Network (no hidden layers) has score of 0.795.\n",
        "\n",
        "NN's require more computational resources and longer training times, may be prone to overfitting if not optimized properly, and can be more difficult to interpret than other models.\n",
        "\n"
      ]
    },
    {
      "cell_type": "markdown",
      "metadata": {
        "id": "g26zqIc-E2-P"
      },
      "source": [
        "#Analysing Overfitting on Random Forest Regressor through varying train-test sizes"
      ]
    },
    {
      "cell_type": "code",
      "execution_count": null,
      "metadata": {
        "id": "a7yn-tr8CAtD"
      },
      "outputs": [],
      "source": [
        "from sklearn.linear_model import LinearRegression\n",
        "from sklearn.metrics import r2_score\n",
        "from sklearn.ensemble import RandomForestRegressor\n",
        "\n",
        "rf_model = RandomForestRegressor(n_estimators=500, random_state=42)\n",
        "\n",
        "values=[i/10 for i in range(1,10)]\n",
        "test_score=[]\n",
        "train_score=[]\n",
        "\n",
        "for i in values:\n",
        "  X_train, X_test, y_train, y_test = train_test_split(X, y, test_size=i, random_state=32, shuffle=True)\n",
        "  # fit the model to the training data\n",
        "  rf_model.fit(X_train, y_train)\n",
        "\n",
        "  y_preds = rf_model.predict(X_train)\n",
        "  y_preds_ = rf_model.predict(X_test)\n",
        "\n",
        "  # Evaluate the performance of the model using R-squared score\n",
        "  r21 = r2_score(y_train, y_preds)\n",
        "  r22 = r2_score(y_test, y_preds_)\n",
        "\n",
        "  train_score.append(r21)\n",
        "  test_score.append(r22)"
      ]
    },
    {
      "cell_type": "code",
      "execution_count": null,
      "metadata": {
        "colab": {
          "base_uri": "https://localhost:8080/",
          "height": 449
        },
        "id": "un6aKnNtFIA4",
        "outputId": "1fe86d12-fc88-4f5a-c725-5097b6e4b19e"
      },
      "outputs": [
        {
          "output_type": "display_data",
          "data": {
            "text/plain": [
              "<Figure size 640x480 with 1 Axes>"
            ],
            "image/png": "[encoded data removed]"
          },
          "metadata": {}
        }
      ],
      "source": [
        "#plot line graph of varying test_size values against train and test score\n",
        "sns.lineplot(x=values,y=train_score,label=\"Train Score\")\n",
        "sns.lineplot(x=values,y=test_score,label=\"Test Score\")\n",
        "sns.lineplot(x=values,y=test_score,label=\"Test Score\")\n",
        "\n",
        "plt.xlabel(\"Test Sizes\")\n",
        "plt.ylabel(\"R-Squared Score\")\n",
        "\n",
        "plt.show()"
      ]
    },
    {
      "cell_type": "code",
      "execution_count": null,
      "metadata": {
        "colab": {
          "base_uri": "https://localhost:8080/"
        },
        "id": "8sjs8WOgIYgC",
        "outputId": "860f14ba-d47e-4545-a809-29ab159bfa59"
      },
      "outputs": [
        {
          "output_type": "stream",
          "name": "stdout",
          "text": [
            "Minumum Difference: 0.03156680303237647  at Index: 0\n",
            "Train Size at Index:  0.9\n"
          ]
        }
      ],
      "source": [
        "difference=[]\n",
        "for i in range(0,len(train_score)):\n",
        "  difference.append(train_score[i]-test_score[i])\n",
        "index = difference.index(min(difference))\n",
        "print(\"Minumum Difference:\" , min(difference), \" at Index:\", index)\n",
        "print(\"Train Size at Index: \", 1 - values[index])\n",
        "\n"
      ]
    },
    {
      "cell_type": "code",
      "execution_count": null,
      "metadata": {
        "colab": {
          "base_uri": "https://localhost:8080/"
        },
        "id": "RayLLUgDJa-V",
        "outputId": "f08ae6cd-884a-410b-f9b0-22ba80585fb3"
      },
      "outputs": [
        {
          "output_type": "stream",
          "name": "stdout",
          "text": [
            "[0.03156680303237647, 0.03352988649162347, 0.03628798092232943, 0.03771235887721658, 0.03911222759897237, 0.04271273935664732, 0.04483520466397839, 0.05221112360235247, 0.07177531269055992]\n"
          ]
        }
      ],
      "source": [
        "print(difference)"
      ]
    },
    {
      "cell_type": "markdown",
      "metadata": {
        "id": "5EinNHUnHKII"
      },
      "source": [
        "#Conclusion\n",
        "Through training of Neural Networks with no hidden layers, r2 score on test set was 0.79, while test score for Random Forest regression was 0.95. Adding 1 hidden layer to the NN increased the r2 score to 0.95 but the training time also increases.\n",
        "\n",
        "In NN regressor, regularization techniques such as dropout and weight decay can be used to avoid overfitting. Furthermore, RFR have fewer hyperparameters to tune than Neural Network Regressor, so finding the optimal set of hyperparameters for a RFR can be time-consuming and requires careful experimentation. On the other hand, Neural Network Regressors have a large number of hyperparameters which can be used to tune the model more efficiently.\n",
        "\n",
        "Hence we have selected Neural Network Regressor as an appropriate model for this dataset.\n"
      ]
    },
    {
      "cell_type": "markdown",
      "metadata": {
        "id": "CU8JHdf3dwYF"
      },
      "source": [
        "# Model Improvement"
      ]
    },
    {
      "cell_type": "markdown",
      "source": [
        "## Splitting the data into training, validation, and testing sets"
      ],
      "metadata": {
        "id": "4JUhDMH1oAIn"
      }
    },
    {
      "cell_type": "code",
      "source": [
        "X_train, X_test, y_train, y_test = train_test_split(X, y, test_size=0.25, random_state=32, shuffle=True)\n",
        "X_train, X_val, y_train, y_val = train_test_split(X_train, y_train, test_size=0.15, random_state=22, shuffle=True)"
      ],
      "metadata": {
        "id": "54Txu8JsEb4d"
      },
      "execution_count": null,
      "outputs": []
    },
    {
      "cell_type": "markdown",
      "source": [
        "## Tuning the Hyperparameters"
      ],
      "metadata": {
        "id": "okDXX3juoPEb"
      }
    },
    {
      "cell_type": "markdown",
      "source": [
        "Through repetitive runs of GridSearchCV on different sets of hyperparameters, we found that the best models are the ones with less number of hidden layers, more nodes at each layer and the learning rates between 0.001 to 0.01.\n",
        "\n",
        "Models with less number of hidden layer work best because the complexity of the model increases with the increase in hidden layers which leads to overfitting.\n",
        "\n",
        "Code used to try different sets of hyperparameters is given below."
      ],
      "metadata": {
        "id": "XW8IWD7KC1di"
      }
    },
    {
      "cell_type": "code",
      "source": [
        "import tensorflow as tf\n",
        "from tensorflow.keras.layers import Dense, Dropout\n",
        "from tensorflow.keras.models import Sequential\n",
        "from tensorflow.keras.wrappers.scikit_learn import KerasRegressor\n",
        "from sklearn.model_selection import GridSearchCV\n",
        "\n",
        "# Define the base model for grid search\n",
        "def create_model(num_hidden_layers=1, num_neurons=32, activation='relu', dropout_rate=0.0, learning_rate=0.01):\n",
        "    model = Sequential()\n",
        "    model.add(Dense(num_neurons, activation='relu', input_shape=[len(X_train.columns)]))\n",
        "    for i in range(num_hidden_layers-1):\n",
        "        model.add(Dense(num_neurons, activation=activation))\n",
        "        model.add(Dropout(dropout_rate))\n",
        "    model.add(Dense(1))\n",
        "    optimizer = tf.keras.optimizers.Adam(learning_rate=learning_rate)\n",
        "    model.compile(loss='mean_squared_error', optimizer=optimizer, metrics=['mse'])\n",
        "    return model\n",
        "\n",
        "# Create the KerasRegressor wrapper for grid search\n",
        "model = KerasRegressor(build_fn=create_model, verbose=0)\n",
        "\n",
        "# Define the hyperparameter grid for grid search\n",
        "param_grid = {\n",
        "    'num_hidden_layers': [1, 2, 3, 4],\n",
        "    'num_neurons': [8, 16, 32, 64],\n",
        "    'activation': ['relu', 'sigmoid', 'tanh'],\n",
        "    'dropout_rate': [0.0, 0.05, 0.1, 0.2],\n",
        "    'learning_rate': [0.1, 0.01, 0.001, 0.0001]\n",
        "}\n",
        "\n",
        "grid_search = GridSearchCV(estimator=model, param_grid=param_grid, cv=5)\n",
        "\n",
        "# Fit the GridSearchCV object on the training data\n",
        "grid_search.fit(X_train, y_train, validation_data=(X_val, y_val), epochs=100)\n"
      ],
      "metadata": {
        "id": "kjc-GDQTvHud"
      },
      "execution_count": null,
      "outputs": []
    },
    {
      "cell_type": "markdown",
      "source": [
        "## Finding the Best Model"
      ],
      "metadata": {
        "id": "iBQHyp2Zqk-u"
      }
    },
    {
      "cell_type": "markdown",
      "source": [
        "We have narrowed down the set of hyperparameters using GridSearchCV.\n",
        "\n",
        "Now we will train the model on learning rates 0.001, 0.003 and 0.009 with 1, 2 or 3 hidden layers each having 8, 16, 32 or 64 nodes to further optimize the hyperparameters.\n",
        "\n",
        "The R2 score for both testing and training set will be checked for each model to monitor the generalization gap.\n"
      ],
      "metadata": {
        "id": "mS5Po0W5sXNC"
      }
    },
    {
      "cell_type": "code",
      "execution_count": null,
      "metadata": {
        "id": "1BQ9o8Bsp7VK",
        "colab": {
          "base_uri": "https://localhost:8080/"
        },
        "outputId": "cf77156e-530c-4f88-898d-faa04332cf9a"
      },
      "outputs": [
        {
          "output_type": "stream",
          "name": "stdout",
          "text": [
            "340/340 [==============================] - 0s 1ms/step\n",
            "134/134 [==============================] - 0s 1ms/step\n",
            "[0.9423256965684147, 0.9430795582197437, {'layers': 1, 'activation': 'relu', 'lr': 0.001, 'nodes': 8}]\n",
            "340/340 [==============================] - 1s 1ms/step\n",
            "134/134 [==============================] - 0s 2ms/step\n",
            "[0.9594561642103615, 0.9575871226566028, {'layers': 1, 'activation': 'relu', 'lr': 0.001, 'nodes': 16}]\n",
            "340/340 [==============================] - 1s 1ms/step\n",
            "134/134 [==============================] - 0s 1ms/step\n",
            "[0.9713569378941513, 0.9669378387390029, {'layers': 1, 'activation': 'relu', 'lr': 0.001, 'nodes': 32}]\n",
            "340/340 [==============================] - 0s 1ms/step\n",
            "134/134 [==============================] - 0s 1ms/step\n",
            "[0.9735475033868546, 0.9677741735494862, {'layers': 1, 'activation': 'relu', 'lr': 0.001, 'nodes': 64}]\n",
            "340/340 [==============================] - 0s 1ms/step\n",
            "134/134 [==============================] - 0s 1ms/step\n",
            "[0.9554340262420077, 0.957874049790359, {'layers': 1, 'activation': 'relu', 'lr': 0.003, 'nodes': 8}]\n",
            "340/340 [==============================] - 0s 1ms/step\n",
            "134/134 [==============================] - 0s 1ms/step\n",
            "[0.9676563464331491, 0.9660632271244874, {'layers': 1, 'activation': 'relu', 'lr': 0.003, 'nodes': 16}]\n",
            "340/340 [==============================] - 0s 1ms/step\n",
            "134/134 [==============================] - 0s 1ms/step\n",
            "[0.9698987318403908, 0.9651052640006372, {'layers': 1, 'activation': 'relu', 'lr': 0.003, 'nodes': 32}]\n",
            "340/340 [==============================] - 0s 1ms/step\n",
            "134/134 [==============================] - 0s 1ms/step\n",
            "[0.9778100856700314, 0.9696815055008109, {'layers': 1, 'activation': 'relu', 'lr': 0.003, 'nodes': 64}]\n",
            "340/340 [==============================] - 0s 1ms/step\n",
            "134/134 [==============================] - 0s 1ms/step\n",
            "[0.9569664733118365, 0.9581941911932048, {'layers': 1, 'activation': 'relu', 'lr': 0.009, 'nodes': 8}]\n",
            "340/340 [==============================] - 0s 1ms/step\n",
            "134/134 [==============================] - 0s 1ms/step\n",
            "[0.9615661566476665, 0.9595691552083585, {'layers': 1, 'activation': 'relu', 'lr': 0.009, 'nodes': 16}]\n",
            "340/340 [==============================] - 1s 1ms/step\n",
            "134/134 [==============================] - 0s 1ms/step\n",
            "[0.9709751554885225, 0.9660520706898166, {'layers': 1, 'activation': 'relu', 'lr': 0.009, 'nodes': 32}]\n",
            "340/340 [==============================] - 1s 1ms/step\n",
            "134/134 [==============================] - 0s 1ms/step\n",
            "[0.9713374127086838, 0.963201411023274, {'layers': 1, 'activation': 'relu', 'lr': 0.009, 'nodes': 64}]\n",
            "340/340 [==============================] - 0s 1ms/step\n",
            "134/134 [==============================] - 0s 1ms/step\n",
            "[0.9554037451129175, 0.95478439080745, {'layers': 2, 'activation': 'relu', 'lr': 0.001, 'nodes': 8}]\n",
            "340/340 [==============================] - 1s 1ms/step\n",
            "134/134 [==============================] - 0s 1ms/step\n",
            "[0.9689840058879321, 0.9641505463130144, {'layers': 2, 'activation': 'relu', 'lr': 0.001, 'nodes': 16}]\n",
            "340/340 [==============================] - 1s 1ms/step\n",
            "134/134 [==============================] - 0s 2ms/step\n",
            "[0.9794714575511159, 0.9694747100846688, {'layers': 2, 'activation': 'relu', 'lr': 0.001, 'nodes': 32}]\n",
            "340/340 [==============================] - 1s 1ms/step\n",
            "134/134 [==============================] - 0s 1ms/step\n",
            "[0.9867221368182688, 0.9687334464601399, {'layers': 2, 'activation': 'relu', 'lr': 0.001, 'nodes': 64}]\n",
            "340/340 [==============================] - 1s 2ms/step\n",
            "134/134 [==============================] - 0s 2ms/step\n",
            "[0.9577179822326244, 0.9587098712777543, {'layers': 2, 'activation': 'relu', 'lr': 0.003, 'nodes': 8}]\n",
            "340/340 [==============================] - 0s 1ms/step\n",
            "134/134 [==============================] - 0s 1ms/step\n",
            "[0.9698599867366069, 0.9661130342805434, {'layers': 2, 'activation': 'relu', 'lr': 0.003, 'nodes': 16}]\n",
            "340/340 [==============================] - 0s 1ms/step\n",
            "134/134 [==============================] - 0s 1ms/step\n",
            "[0.9756964783359009, 0.963496685130733, {'layers': 2, 'activation': 'relu', 'lr': 0.003, 'nodes': 32}]\n",
            "340/340 [==============================] - 1s 1ms/step\n",
            "134/134 [==============================] - 0s 1ms/step\n",
            "[0.987297391291784, 0.9662479653690732, {'layers': 2, 'activation': 'relu', 'lr': 0.003, 'nodes': 64}]\n",
            "340/340 [==============================] - 0s 1ms/step\n",
            "134/134 [==============================] - 0s 1ms/step\n",
            "[0.9610879898128211, 0.9607141078911005, {'layers': 2, 'activation': 'relu', 'lr': 0.009, 'nodes': 8}]\n",
            "340/340 [==============================] - 0s 1ms/step\n",
            "134/134 [==============================] - 0s 1ms/step\n",
            "[0.9664173674815104, 0.9605042904481809, {'layers': 2, 'activation': 'relu', 'lr': 0.009, 'nodes': 16}]\n",
            "340/340 [==============================] - 0s 1ms/step\n",
            "134/134 [==============================] - 0s 1ms/step\n",
            "[0.9772694699882203, 0.9664082526201083, {'layers': 2, 'activation': 'relu', 'lr': 0.009, 'nodes': 32}]\n",
            "340/340 [==============================] - 0s 1ms/step\n",
            "134/134 [==============================] - 0s 1ms/step\n",
            "[0.9760566912041553, 0.9661418947726703, {'layers': 2, 'activation': 'relu', 'lr': 0.009, 'nodes': 64}]\n",
            "340/340 [==============================] - 0s 1ms/step\n",
            "134/134 [==============================] - 0s 1ms/step\n",
            "[0.9632252511237751, 0.9621031989683642, {'layers': 3, 'activation': 'relu', 'lr': 0.001, 'nodes': 8}]\n",
            "340/340 [==============================] - 1s 1ms/step\n",
            "134/134 [==============================] - 0s 1ms/step\n",
            "[0.9719970015150592, 0.9671734965825807, {'layers': 3, 'activation': 'relu', 'lr': 0.001, 'nodes': 16}]\n",
            "340/340 [==============================] - 0s 1ms/step\n",
            "134/134 [==============================] - 0s 1ms/step\n",
            "[0.982199538057679, 0.9679857492651937, {'layers': 3, 'activation': 'relu', 'lr': 0.001, 'nodes': 32}]\n",
            "340/340 [==============================] - 1s 1ms/step\n",
            "134/134 [==============================] - 0s 1ms/step\n",
            "[0.9883582394109923, 0.9657127121280438, {'layers': 3, 'activation': 'relu', 'lr': 0.001, 'nodes': 64}]\n",
            "340/340 [==============================] - 1s 1ms/step\n",
            "134/134 [==============================] - 0s 1ms/step\n",
            "[0.9660476172655308, 0.9639811741630182, {'layers': 3, 'activation': 'relu', 'lr': 0.003, 'nodes': 8}]\n",
            "340/340 [==============================] - 1s 1ms/step\n",
            "134/134 [==============================] - 0s 1ms/step\n",
            "[0.9718303474412564, 0.9654920120594853, {'layers': 3, 'activation': 'relu', 'lr': 0.003, 'nodes': 16}]\n",
            "340/340 [==============================] - 1s 1ms/step\n",
            "134/134 [==============================] - 0s 1ms/step\n",
            "[0.9793454941082291, 0.9633045254250168, {'layers': 3, 'activation': 'relu', 'lr': 0.003, 'nodes': 32}]\n",
            "340/340 [==============================] - 1s 1ms/step\n",
            "134/134 [==============================] - 0s 1ms/step\n",
            "[0.9859902873360635, 0.9664155106259259, {'layers': 3, 'activation': 'relu', 'lr': 0.003, 'nodes': 64}]\n",
            "340/340 [==============================] - 1s 1ms/step\n",
            "134/134 [==============================] - 0s 2ms/step\n",
            "[0.9616508920404508, 0.9609379360687529, {'layers': 3, 'activation': 'relu', 'lr': 0.009, 'nodes': 8}]\n",
            "340/340 [==============================] - 1s 1ms/step\n",
            "134/134 [==============================] - 0s 1ms/step\n",
            "[0.9682002458554472, 0.9656082858683944, {'layers': 3, 'activation': 'relu', 'lr': 0.009, 'nodes': 16}]\n",
            "340/340 [==============================] - 1s 1ms/step\n",
            "134/134 [==============================] - 0s 1ms/step\n",
            "[0.9760945060459792, 0.9676413900141014, {'layers': 3, 'activation': 'relu', 'lr': 0.009, 'nodes': 32}]\n",
            "340/340 [==============================] - 1s 1ms/step\n",
            "134/134 [==============================] - 0s 1ms/step\n",
            "[0.9768199658190392, 0.9637258586988476, {'layers': 3, 'activation': 'relu', 'lr': 0.009, 'nodes': 64}]\n"
          ]
        }
      ],
      "source": [
        "from tensorflow.keras.layers import Dense\n",
        "from tensorflow.keras.models import Sequential\n",
        "\n",
        "scores = list()\n",
        "\n",
        "layers = [1,2,3]\n",
        "lrs = [0.001, 0.003, 0.009]\n",
        "nodes = [8,16,32,64]\n",
        "for layer in layers:\n",
        "  for l_rate in lrs:\n",
        "    for node in nodes:\n",
        "      model = Sequential()\n",
        "      model.add(Dense(node, activation='relu', input_shape=[len(X_train.columns)]))\n",
        "      for i in range(layer-1):\n",
        "        model.add(Dense(node, activation='relu'))\n",
        "      model.add(Dense(1))\n",
        "      optimizer = tf.keras.optimizers.Adam(l_rate)\n",
        "      model.compile(loss='mse',\n",
        "            optimizer=tf.keras.optimizers.Adam(l_rate))\n",
        "      history = model.fit(X_train, y_train, validation_data=(X_val, y_val), epochs=500, verbose=0)\n",
        "      y_preds = model.predict(X_train)\n",
        "      y_preds_ = model.predict(X_test)\n",
        "\n",
        "      # Evaluate the performance of the model using R-squared score\n",
        "      r21 = r2_score(y_train, y_preds)\n",
        "      r22 = r2_score(y_test, y_preds_)\n",
        "      score = [r21, r22, {'layers':layer, 'activation':'relu', 'lr':l_rate, 'nodes':node}]\n",
        "      scores.append(score)\n",
        "      print(score)\n",
        "      \n"
      ]
    },
    {
      "cell_type": "code",
      "source": [
        "scores"
      ],
      "metadata": {
        "colab": {
          "base_uri": "https://localhost:8080/"
        },
        "id": "PnDjUJZ1lJBa",
        "outputId": "4e08f7f0-dff6-4752-dd61-f235fe1a3737"
      },
      "execution_count": null,
      "outputs": [
        {
          "output_type": "execute_result",
          "data": {
            "text/plain": [
              "[[0.9423256965684147,\n",
              "  0.9430795582197437,\n",
              "  {'layers': 1, 'activation': 'relu', 'lr': 0.001, 'nodes': 8}],\n",
              " [0.9594561642103615,\n",
              "  0.9575871226566028,\n",
              "  {'layers': 1, 'activation': 'relu', 'lr': 0.001, 'nodes': 16}],\n",
              " [0.9713569378941513,\n",
              "  0.9669378387390029,\n",
              "  {'layers': 1, 'activation': 'relu', 'lr': 0.001, 'nodes': 32}],\n",
              " [0.9735475033868546,\n",
              "  0.9677741735494862,\n",
              "  {'layers': 1, 'activation': 'relu', 'lr': 0.001, 'nodes': 64}],\n",
              " [0.9554340262420077,\n",
              "  0.957874049790359,\n",
              "  {'layers': 1, 'activation': 'relu', 'lr': 0.003, 'nodes': 8}],\n",
              " [0.9676563464331491,\n",
              "  0.9660632271244874,\n",
              "  {'layers': 1, 'activation': 'relu', 'lr': 0.003, 'nodes': 16}],\n",
              " [0.9698987318403908,\n",
              "  0.9651052640006372,\n",
              "  {'layers': 1, 'activation': 'relu', 'lr': 0.003, 'nodes': 32}],\n",
              " [0.9778100856700314,\n",
              "  0.9696815055008109,\n",
              "  {'layers': 1, 'activation': 'relu', 'lr': 0.003, 'nodes': 64}],\n",
              " [0.9569664733118365,\n",
              "  0.9581941911932048,\n",
              "  {'layers': 1, 'activation': 'relu', 'lr': 0.009, 'nodes': 8}],\n",
              " [0.9615661566476665,\n",
              "  0.9595691552083585,\n",
              "  {'layers': 1, 'activation': 'relu', 'lr': 0.009, 'nodes': 16}],\n",
              " [0.9709751554885225,\n",
              "  0.9660520706898166,\n",
              "  {'layers': 1, 'activation': 'relu', 'lr': 0.009, 'nodes': 32}],\n",
              " [0.9713374127086838,\n",
              "  0.963201411023274,\n",
              "  {'layers': 1, 'activation': 'relu', 'lr': 0.009, 'nodes': 64}],\n",
              " [0.9554037451129175,\n",
              "  0.95478439080745,\n",
              "  {'layers': 2, 'activation': 'relu', 'lr': 0.001, 'nodes': 8}],\n",
              " [0.9689840058879321,\n",
              "  0.9641505463130144,\n",
              "  {'layers': 2, 'activation': 'relu', 'lr': 0.001, 'nodes': 16}],\n",
              " [0.9794714575511159,\n",
              "  0.9694747100846688,\n",
              "  {'layers': 2, 'activation': 'relu', 'lr': 0.001, 'nodes': 32}],\n",
              " [0.9867221368182688,\n",
              "  0.9687334464601399,\n",
              "  {'layers': 2, 'activation': 'relu', 'lr': 0.001, 'nodes': 64}],\n",
              " [0.9577179822326244,\n",
              "  0.9587098712777543,\n",
              "  {'layers': 2, 'activation': 'relu', 'lr': 0.003, 'nodes': 8}],\n",
              " [0.9698599867366069,\n",
              "  0.9661130342805434,\n",
              "  {'layers': 2, 'activation': 'relu', 'lr': 0.003, 'nodes': 16}],\n",
              " [0.9756964783359009,\n",
              "  0.963496685130733,\n",
              "  {'layers': 2, 'activation': 'relu', 'lr': 0.003, 'nodes': 32}],\n",
              " [0.987297391291784,\n",
              "  0.9662479653690732,\n",
              "  {'layers': 2, 'activation': 'relu', 'lr': 0.003, 'nodes': 64}],\n",
              " [0.9610879898128211,\n",
              "  0.9607141078911005,\n",
              "  {'layers': 2, 'activation': 'relu', 'lr': 0.009, 'nodes': 8}],\n",
              " [0.9664173674815104,\n",
              "  0.9605042904481809,\n",
              "  {'layers': 2, 'activation': 'relu', 'lr': 0.009, 'nodes': 16}],\n",
              " [0.9772694699882203,\n",
              "  0.9664082526201083,\n",
              "  {'layers': 2, 'activation': 'relu', 'lr': 0.009, 'nodes': 32}],\n",
              " [0.9760566912041553,\n",
              "  0.9661418947726703,\n",
              "  {'layers': 2, 'activation': 'relu', 'lr': 0.009, 'nodes': 64}],\n",
              " [0.9632252511237751,\n",
              "  0.9621031989683642,\n",
              "  {'layers': 3, 'activation': 'relu', 'lr': 0.001, 'nodes': 8}],\n",
              " [0.9719970015150592,\n",
              "  0.9671734965825807,\n",
              "  {'layers': 3, 'activation': 'relu', 'lr': 0.001, 'nodes': 16}],\n",
              " [0.982199538057679,\n",
              "  0.9679857492651937,\n",
              "  {'layers': 3, 'activation': 'relu', 'lr': 0.001, 'nodes': 32}],\n",
              " [0.9883582394109923,\n",
              "  0.9657127121280438,\n",
              "  {'layers': 3, 'activation': 'relu', 'lr': 0.001, 'nodes': 64}],\n",
              " [0.9660476172655308,\n",
              "  0.9639811741630182,\n",
              "  {'layers': 3, 'activation': 'relu', 'lr': 0.003, 'nodes': 8}],\n",
              " [0.9718303474412564,\n",
              "  0.9654920120594853,\n",
              "  {'layers': 3, 'activation': 'relu', 'lr': 0.003, 'nodes': 16}],\n",
              " [0.9793454941082291,\n",
              "  0.9633045254250168,\n",
              "  {'layers': 3, 'activation': 'relu', 'lr': 0.003, 'nodes': 32}],\n",
              " [0.9859902873360635,\n",
              "  0.9664155106259259,\n",
              "  {'layers': 3, 'activation': 'relu', 'lr': 0.003, 'nodes': 64}],\n",
              " [0.9616508920404508,\n",
              "  0.9609379360687529,\n",
              "  {'layers': 3, 'activation': 'relu', 'lr': 0.009, 'nodes': 8}],\n",
              " [0.9682002458554472,\n",
              "  0.9656082858683944,\n",
              "  {'layers': 3, 'activation': 'relu', 'lr': 0.009, 'nodes': 16}],\n",
              " [0.9760945060459792,\n",
              "  0.9676413900141014,\n",
              "  {'layers': 3, 'activation': 'relu', 'lr': 0.009, 'nodes': 32}],\n",
              " [0.9768199658190392,\n",
              "  0.9637258586988476,\n",
              "  {'layers': 3, 'activation': 'relu', 'lr': 0.009, 'nodes': 64}]]"
            ]
          },
          "metadata": {},
          "execution_count": 118
        }
      ]
    },
    {
      "cell_type": "code",
      "source": [
        "best_score = max(i[1] for i in scores)\n",
        "print('Highest test score: ', best_score)\n",
        "for i in scores:\n",
        "  print(\"Parameters: \", i[2]) if i[1]==best_score else None"
      ],
      "metadata": {
        "colab": {
          "base_uri": "https://localhost:8080/"
        },
        "id": "Br-A_sRLlyTI",
        "outputId": "372b3b77-b98a-45ef-d193-e7290851a48b"
      },
      "execution_count": null,
      "outputs": [
        {
          "output_type": "stream",
          "name": "stdout",
          "text": [
            "Highest test score:  0.9696815055008109\n",
            "Parameters:  {'layers': 1, 'activation': 'relu', 'lr': 0.003, 'nodes': 64}\n"
          ]
        }
      ]
    },
    {
      "cell_type": "markdown",
      "source": [
        "## Reducing the Convergence Time"
      ],
      "metadata": {
        "id": "9UFhy5ujor1L"
      }
    },
    {
      "cell_type": "markdown",
      "source": [
        "We found that the best hyperparameters are 1 hidden layer with 64 nodes at 0.003 learning rate. However, this learning rate will take longer time to train.\n",
        "\n",
        "Choosing an appropriate learning rate is important because if it is too small, it will take too long for the model to converge, while if it is too large, it may never converge or even diverge.\n",
        "\n",
        "To speed up the convergence process, we will use ReduceLROnPlateau.\n",
        "\n",
        "ReduceLROnPlateau is a scheduling technique that decreases the learning rate when the specified metric stops improving for longer than the patience number allows. Thus, the learning rate is kept the same as long as it improves the metric quantity, but the learning rate is reduced when the results run into stagnation.\n",
        "\n",
        "Initially, the learning rate is 0.01. For ReduceLROnPlateau, the monitered metric is loss on validation set, patience number is 20, the factor by which the learning rate will change is 0.5, and the minimum learning rate is 0.0001\n"
      ],
      "metadata": {
        "id": "3JE976WWDXbf"
      }
    },
    {
      "cell_type": "code",
      "execution_count": null,
      "metadata": {
        "colab": {
          "base_uri": "https://localhost:8080/"
        },
        "id": "BI_ehYKsd5Bw",
        "outputId": "fa1f9e6e-d59d-4be6-c0a8-06b8a7e59dcd"
      },
      "outputs": [
        {
          "output_type": "stream",
          "name": "stdout",
          "text": [
            "Epoch 1/300\n",
            "340/340 [==============================] - 4s 7ms/step - loss: 114.5337 - val_loss: 56.9273 - lr: 0.0100\n",
            "Epoch 2/300\n",
            "340/340 [==============================] - 3s 10ms/step - loss: 51.2540 - val_loss: 38.3293 - lr: 0.0100\n",
            "Epoch 3/300\n",
            "340/340 [==============================] - 1s 4ms/step - loss: 28.9367 - val_loss: 20.1153 - lr: 0.0100\n",
            "Epoch 4/300\n",
            "340/340 [==============================] - 1s 3ms/step - loss: 18.2920 - val_loss: 18.9123 - lr: 0.0100\n",
            "Epoch 5/300\n",
            "340/340 [==============================] - 1s 3ms/step - loss: 15.5108 - val_loss: 13.8469 - lr: 0.0100\n",
            "Epoch 6/300\n",
            "340/340 [==============================] - 1s 3ms/step - loss: 13.9639 - val_loss: 14.2504 - lr: 0.0100\n",
            "Epoch 7/300\n",
            "340/340 [==============================] - 1s 3ms/step - loss: 12.4687 - val_loss: 11.2464 - lr: 0.0100\n",
            "Epoch 8/300\n",
            "340/340 [==============================] - 1s 3ms/step - loss: 12.2405 - val_loss: 12.5020 - lr: 0.0100\n",
            "Epoch 9/300\n",
            "340/340 [==============================] - 1s 3ms/step - loss: 13.0878 - val_loss: 14.6332 - lr: 0.0100\n",
            "Epoch 10/300\n",
            "340/340 [==============================] - 1s 3ms/step - loss: 11.4988 - val_loss: 16.9717 - lr: 0.0100\n",
            "Epoch 11/300\n",
            "340/340 [==============================] - 1s 3ms/step - loss: 11.1350 - val_loss: 12.8729 - lr: 0.0100\n",
            "Epoch 12/300\n",
            "340/340 [==============================] - 1s 3ms/step - loss: 11.5499 - val_loss: 10.0055 - lr: 0.0100\n",
            "Epoch 13/300\n",
            "340/340 [==============================] - 1s 4ms/step - loss: 11.5964 - val_loss: 10.9418 - lr: 0.0100\n",
            "Epoch 14/300\n",
            "340/340 [==============================] - 1s 4ms/step - loss: 10.9200 - val_loss: 21.0456 - lr: 0.0100\n",
            "Epoch 15/300\n",
            "340/340 [==============================] - 1s 3ms/step - loss: 11.5602 - val_loss: 10.7177 - lr: 0.0100\n",
            "Epoch 16/300\n",
            "340/340 [==============================] - 1s 3ms/step - loss: 11.2469 - val_loss: 9.9361 - lr: 0.0100\n",
            "Epoch 17/300\n",
            "340/340 [==============================] - 1s 3ms/step - loss: 10.5897 - val_loss: 11.3479 - lr: 0.0100\n",
            "Epoch 18/300\n",
            "340/340 [==============================] - 1s 3ms/step - loss: 11.0823 - val_loss: 10.0075 - lr: 0.0100\n",
            "Epoch 19/300\n",
            "340/340 [==============================] - 1s 3ms/step - loss: 11.1611 - val_loss: 12.0984 - lr: 0.0100\n",
            "Epoch 20/300\n",
            "340/340 [==============================] - 1s 3ms/step - loss: 10.2973 - val_loss: 10.8914 - lr: 0.0100\n",
            "Epoch 21/300\n",
            "340/340 [==============================] - 1s 3ms/step - loss: 10.7843 - val_loss: 11.5801 - lr: 0.0100\n",
            "Epoch 22/300\n",
            "340/340 [==============================] - 1s 3ms/step - loss: 10.1328 - val_loss: 9.7271 - lr: 0.0100\n",
            "Epoch 23/300\n",
            "340/340 [==============================] - 1s 4ms/step - loss: 10.0164 - val_loss: 17.5851 - lr: 0.0100\n",
            "Epoch 24/300\n",
            "340/340 [==============================] - 2s 4ms/step - loss: 10.7229 - val_loss: 11.6480 - lr: 0.0100\n",
            "Epoch 25/300\n",
            "340/340 [==============================] - 1s 3ms/step - loss: 10.0365 - val_loss: 10.9746 - lr: 0.0100\n",
            "Epoch 26/300\n",
            "340/340 [==============================] - 1s 3ms/step - loss: 10.2787 - val_loss: 10.1201 - lr: 0.0100\n",
            "Epoch 27/300\n",
            "340/340 [==============================] - 1s 3ms/step - loss: 10.1691 - val_loss: 10.2285 - lr: 0.0100\n",
            "Epoch 28/300\n",
            "340/340 [==============================] - 1s 3ms/step - loss: 10.1025 - val_loss: 9.5463 - lr: 0.0100\n",
            "Epoch 29/300\n",
            "340/340 [==============================] - 1s 3ms/step - loss: 9.9463 - val_loss: 20.3914 - lr: 0.0100\n",
            "Epoch 30/300\n",
            "340/340 [==============================] - 1s 3ms/step - loss: 9.8153 - val_loss: 9.6115 - lr: 0.0100\n",
            "Epoch 31/300\n",
            "340/340 [==============================] - 1s 3ms/step - loss: 9.3531 - val_loss: 16.2345 - lr: 0.0100\n",
            "Epoch 32/300\n",
            "340/340 [==============================] - 1s 3ms/step - loss: 9.9257 - val_loss: 10.3056 - lr: 0.0100\n",
            "Epoch 33/300\n",
            "340/340 [==============================] - 1s 3ms/step - loss: 9.7269 - val_loss: 9.7855 - lr: 0.0100\n",
            "Epoch 34/300\n",
            "340/340 [==============================] - 2s 4ms/step - loss: 9.3343 - val_loss: 9.6233 - lr: 0.0100\n",
            "Epoch 35/300\n",
            "340/340 [==============================] - 1s 4ms/step - loss: 9.5952 - val_loss: 9.7194 - lr: 0.0100\n",
            "Epoch 36/300\n",
            "340/340 [==============================] - 1s 3ms/step - loss: 9.2365 - val_loss: 9.9242 - lr: 0.0100\n",
            "Epoch 37/300\n",
            "340/340 [==============================] - 1s 3ms/step - loss: 9.7424 - val_loss: 10.2772 - lr: 0.0100\n",
            "Epoch 38/300\n",
            "340/340 [==============================] - 1s 3ms/step - loss: 9.3658 - val_loss: 11.0754 - lr: 0.0100\n",
            "Epoch 39/300\n",
            "340/340 [==============================] - 1s 3ms/step - loss: 9.6350 - val_loss: 12.4132 - lr: 0.0100\n",
            "Epoch 40/300\n",
            "340/340 [==============================] - 1s 3ms/step - loss: 9.1859 - val_loss: 9.1242 - lr: 0.0100\n",
            "Epoch 41/300\n",
            "340/340 [==============================] - 1s 3ms/step - loss: 9.4069 - val_loss: 9.2881 - lr: 0.0100\n",
            "Epoch 42/300\n",
            "340/340 [==============================] - 1s 3ms/step - loss: 9.0135 - val_loss: 10.2563 - lr: 0.0100\n",
            "Epoch 43/300\n",
            "340/340 [==============================] - 1s 3ms/step - loss: 8.9976 - val_loss: 13.0482 - lr: 0.0100\n",
            "Epoch 44/300\n",
            "340/340 [==============================] - 1s 3ms/step - loss: 9.2843 - val_loss: 12.9456 - lr: 0.0100\n",
            "Epoch 45/300\n",
            "340/340 [==============================] - 2s 4ms/step - loss: 9.6846 - val_loss: 9.4063 - lr: 0.0100\n",
            "Epoch 46/300\n",
            "340/340 [==============================] - 1s 4ms/step - loss: 8.9656 - val_loss: 9.8975 - lr: 0.0100\n",
            "Epoch 47/300\n",
            "340/340 [==============================] - 1s 3ms/step - loss: 8.9157 - val_loss: 8.9314 - lr: 0.0100\n",
            "Epoch 48/300\n",
            "340/340 [==============================] - 1s 3ms/step - loss: 9.3308 - val_loss: 9.3589 - lr: 0.0100\n",
            "Epoch 49/300\n",
            "340/340 [==============================] - 1s 3ms/step - loss: 9.0054 - val_loss: 9.2765 - lr: 0.0100\n",
            "Epoch 50/300\n",
            "340/340 [==============================] - 1s 3ms/step - loss: 9.0952 - val_loss: 9.6032 - lr: 0.0100\n",
            "Epoch 51/300\n",
            "340/340 [==============================] - 1s 3ms/step - loss: 9.0082 - val_loss: 9.9394 - lr: 0.0100\n",
            "Epoch 52/300\n",
            "340/340 [==============================] - 1s 3ms/step - loss: 9.2801 - val_loss: 9.4394 - lr: 0.0100\n",
            "Epoch 53/300\n",
            "340/340 [==============================] - 1s 3ms/step - loss: 8.6753 - val_loss: 10.4139 - lr: 0.0100\n",
            "Epoch 54/300\n",
            "340/340 [==============================] - 1s 3ms/step - loss: 9.4850 - val_loss: 9.0390 - lr: 0.0100\n",
            "Epoch 55/300\n",
            "340/340 [==============================] - 1s 3ms/step - loss: 9.0470 - val_loss: 9.1115 - lr: 0.0100\n",
            "Epoch 56/300\n",
            "340/340 [==============================] - 2s 5ms/step - loss: 8.2870 - val_loss: 10.9024 - lr: 0.0100\n",
            "Epoch 57/300\n",
            "340/340 [==============================] - 1s 4ms/step - loss: 8.5774 - val_loss: 8.7637 - lr: 0.0100\n",
            "Epoch 58/300\n",
            "340/340 [==============================] - 1s 3ms/step - loss: 8.6592 - val_loss: 10.9238 - lr: 0.0100\n",
            "Epoch 59/300\n",
            "340/340 [==============================] - 1s 3ms/step - loss: 8.7116 - val_loss: 10.1853 - lr: 0.0100\n",
            "Epoch 60/300\n",
            "340/340 [==============================] - 1s 3ms/step - loss: 8.9802 - val_loss: 10.3724 - lr: 0.0100\n",
            "Epoch 61/300\n",
            "340/340 [==============================] - 1s 3ms/step - loss: 8.6099 - val_loss: 9.3110 - lr: 0.0100\n",
            "Epoch 62/300\n",
            "340/340 [==============================] - 1s 3ms/step - loss: 8.5173 - val_loss: 8.7274 - lr: 0.0100\n",
            "Epoch 63/300\n",
            "340/340 [==============================] - 1s 3ms/step - loss: 8.5381 - val_loss: 10.6312 - lr: 0.0100\n",
            "Epoch 64/300\n",
            "340/340 [==============================] - 1s 3ms/step - loss: 8.6648 - val_loss: 11.4524 - lr: 0.0100\n",
            "Epoch 65/300\n",
            "340/340 [==============================] - 1s 3ms/step - loss: 8.2541 - val_loss: 9.5324 - lr: 0.0100\n",
            "Epoch 66/300\n",
            "340/340 [==============================] - 1s 3ms/step - loss: 8.5836 - val_loss: 10.8827 - lr: 0.0100\n",
            "Epoch 67/300\n",
            "340/340 [==============================] - 2s 5ms/step - loss: 8.6438 - val_loss: 12.6058 - lr: 0.0100\n",
            "Epoch 68/300\n",
            "340/340 [==============================] - 1s 4ms/step - loss: 8.5638 - val_loss: 9.4948 - lr: 0.0100\n",
            "Epoch 69/300\n",
            "340/340 [==============================] - 1s 3ms/step - loss: 8.3730 - val_loss: 8.9855 - lr: 0.0100\n",
            "Epoch 70/300\n",
            "340/340 [==============================] - 1s 3ms/step - loss: 8.3310 - val_loss: 9.5299 - lr: 0.0100\n",
            "Epoch 71/300\n",
            "340/340 [==============================] - 1s 3ms/step - loss: 8.3767 - val_loss: 8.9632 - lr: 0.0100\n",
            "Epoch 72/300\n",
            "340/340 [==============================] - 1s 3ms/step - loss: 8.2813 - val_loss: 9.7404 - lr: 0.0100\n",
            "Epoch 73/300\n",
            "340/340 [==============================] - 1s 3ms/step - loss: 8.4278 - val_loss: 9.7424 - lr: 0.0100\n",
            "Epoch 74/300\n",
            "340/340 [==============================] - 1s 3ms/step - loss: 8.4268 - val_loss: 9.1537 - lr: 0.0100\n",
            "Epoch 75/300\n",
            "340/340 [==============================] - 1s 3ms/step - loss: 8.1590 - val_loss: 11.9702 - lr: 0.0100\n",
            "Epoch 76/300\n",
            "340/340 [==============================] - 1s 3ms/step - loss: 8.3396 - val_loss: 9.2096 - lr: 0.0100\n",
            "Epoch 77/300\n",
            "340/340 [==============================] - 1s 4ms/step - loss: 8.6949 - val_loss: 9.0514 - lr: 0.0100\n",
            "Epoch 78/300\n",
            "340/340 [==============================] - 2s 5ms/step - loss: 8.1358 - val_loss: 9.3430 - lr: 0.0100\n",
            "Epoch 79/300\n",
            "340/340 [==============================] - 1s 3ms/step - loss: 8.1824 - val_loss: 13.8418 - lr: 0.0100\n",
            "Epoch 80/300\n",
            "340/340 [==============================] - 1s 3ms/step - loss: 7.8158 - val_loss: 9.2741 - lr: 0.0100\n",
            "Epoch 81/300\n",
            "340/340 [==============================] - 1s 3ms/step - loss: 8.6117 - val_loss: 8.6098 - lr: 0.0100\n",
            "Epoch 82/300\n",
            "340/340 [==============================] - 1s 3ms/step - loss: 8.0821 - val_loss: 9.0245 - lr: 0.0100\n",
            "Epoch 83/300\n",
            "340/340 [==============================] - 1s 3ms/step - loss: 7.8295 - val_loss: 9.6144 - lr: 0.0100\n",
            "Epoch 84/300\n",
            "340/340 [==============================] - 1s 3ms/step - loss: 8.2872 - val_loss: 12.9836 - lr: 0.0100\n",
            "Epoch 85/300\n",
            "340/340 [==============================] - 1s 3ms/step - loss: 8.2384 - val_loss: 10.1456 - lr: 0.0100\n",
            "Epoch 86/300\n",
            "340/340 [==============================] - 1s 3ms/step - loss: 7.8867 - val_loss: 10.5263 - lr: 0.0100\n",
            "Epoch 87/300\n",
            "340/340 [==============================] - 1s 3ms/step - loss: 8.2017 - val_loss: 11.7047 - lr: 0.0100\n",
            "Epoch 88/300\n",
            "340/340 [==============================] - 1s 4ms/step - loss: 8.3149 - val_loss: 9.0698 - lr: 0.0100\n",
            "Epoch 89/300\n",
            "340/340 [==============================] - 2s 5ms/step - loss: 8.2829 - val_loss: 9.0495 - lr: 0.0100\n",
            "Epoch 90/300\n",
            "340/340 [==============================] - 1s 3ms/step - loss: 8.0665 - val_loss: 9.9667 - lr: 0.0100\n",
            "Epoch 91/300\n",
            "340/340 [==============================] - 1s 3ms/step - loss: 7.9739 - val_loss: 9.7181 - lr: 0.0100\n",
            "Epoch 92/300\n",
            "340/340 [==============================] - 1s 3ms/step - loss: 8.5884 - val_loss: 9.5347 - lr: 0.0100\n",
            "Epoch 93/300\n",
            "340/340 [==============================] - 1s 3ms/step - loss: 7.8323 - val_loss: 9.9691 - lr: 0.0100\n",
            "Epoch 94/300\n",
            "340/340 [==============================] - 1s 3ms/step - loss: 7.9072 - val_loss: 13.4204 - lr: 0.0100\n",
            "Epoch 95/300\n",
            "340/340 [==============================] - 1s 3ms/step - loss: 8.0567 - val_loss: 9.5136 - lr: 0.0100\n",
            "Epoch 96/300\n",
            "340/340 [==============================] - 1s 3ms/step - loss: 7.9245 - val_loss: 9.6622 - lr: 0.0100\n",
            "Epoch 97/300\n",
            "340/340 [==============================] - 1s 3ms/step - loss: 7.8285 - val_loss: 9.7381 - lr: 0.0100\n",
            "Epoch 98/300\n",
            "340/340 [==============================] - 1s 3ms/step - loss: 7.7757 - val_loss: 9.6173 - lr: 0.0100\n",
            "Epoch 99/300\n",
            "340/340 [==============================] - 1s 4ms/step - loss: 7.6916 - val_loss: 9.2158 - lr: 0.0100\n",
            "Epoch 100/300\n",
            "340/340 [==============================] - 1s 4ms/step - loss: 8.7100 - val_loss: 11.2411 - lr: 0.0100\n",
            "Epoch 101/300\n",
            "338/340 [============================>.] - ETA: 0s - loss: 8.0619\n",
            "Epoch 101: ReduceLROnPlateau reducing learning rate to 0.004999999888241291.\n",
            "340/340 [==============================] - 1s 3ms/step - loss: 8.0888 - val_loss: 9.3232 - lr: 0.0100\n",
            "Epoch 102/300\n",
            "340/340 [==============================] - 1s 3ms/step - loss: 7.0981 - val_loss: 9.7870 - lr: 0.0050\n",
            "Epoch 103/300\n",
            "340/340 [==============================] - 1s 3ms/step - loss: 7.0124 - val_loss: 10.2168 - lr: 0.0050\n",
            "Epoch 104/300\n",
            "340/340 [==============================] - 1s 3ms/step - loss: 6.9561 - val_loss: 9.4606 - lr: 0.0050\n",
            "Epoch 105/300\n",
            "340/340 [==============================] - 1s 3ms/step - loss: 6.9605 - val_loss: 9.2809 - lr: 0.0050\n",
            "Epoch 106/300\n",
            "340/340 [==============================] - 1s 3ms/step - loss: 7.0478 - val_loss: 9.0682 - lr: 0.0050\n",
            "Epoch 107/300\n",
            "340/340 [==============================] - 1s 3ms/step - loss: 7.0740 - val_loss: 9.3773 - lr: 0.0050\n",
            "Epoch 108/300\n",
            "340/340 [==============================] - 1s 3ms/step - loss: 7.1031 - val_loss: 9.6923 - lr: 0.0050\n",
            "Epoch 109/300\n",
            "340/340 [==============================] - 1s 3ms/step - loss: 7.2293 - val_loss: 9.4304 - lr: 0.0050\n",
            "Epoch 110/300\n",
            "340/340 [==============================] - 1s 4ms/step - loss: 7.0840 - val_loss: 10.3593 - lr: 0.0050\n",
            "Epoch 111/300\n",
            "340/340 [==============================] - 1s 4ms/step - loss: 7.0225 - val_loss: 9.5593 - lr: 0.0050\n",
            "Epoch 112/300\n",
            "340/340 [==============================] - 1s 3ms/step - loss: 7.0665 - val_loss: 9.6098 - lr: 0.0050\n",
            "Epoch 113/300\n",
            "340/340 [==============================] - 1s 3ms/step - loss: 6.9941 - val_loss: 9.3386 - lr: 0.0050\n",
            "Epoch 114/300\n",
            "340/340 [==============================] - 1s 3ms/step - loss: 7.1368 - val_loss: 9.2876 - lr: 0.0050\n",
            "Epoch 115/300\n",
            "340/340 [==============================] - 1s 3ms/step - loss: 7.2276 - val_loss: 9.9400 - lr: 0.0050\n",
            "Epoch 116/300\n",
            "340/340 [==============================] - 1s 3ms/step - loss: 7.0874 - val_loss: 9.4468 - lr: 0.0050\n",
            "Epoch 117/300\n",
            "340/340 [==============================] - 1s 3ms/step - loss: 7.1257 - val_loss: 9.2223 - lr: 0.0050\n",
            "Epoch 118/300\n",
            "340/340 [==============================] - 1s 3ms/step - loss: 6.9562 - val_loss: 9.4443 - lr: 0.0050\n",
            "Epoch 119/300\n",
            "340/340 [==============================] - 1s 3ms/step - loss: 7.0961 - val_loss: 9.2834 - lr: 0.0050\n",
            "Epoch 120/300\n",
            "340/340 [==============================] - 1s 3ms/step - loss: 6.8867 - val_loss: 10.4787 - lr: 0.0050\n",
            "Epoch 121/300\n",
            "330/340 [============================>.] - ETA: 0s - loss: 7.2258\n",
            "Epoch 121: ReduceLROnPlateau reducing learning rate to 0.0024999999441206455.\n",
            "340/340 [==============================] - 1s 4ms/step - loss: 7.1812 - val_loss: 9.4811 - lr: 0.0050\n",
            "Epoch 122/300\n",
            "340/340 [==============================] - 2s 5ms/step - loss: 6.5183 - val_loss: 9.2366 - lr: 0.0025\n",
            "Epoch 123/300\n",
            "340/340 [==============================] - 1s 3ms/step - loss: 6.5060 - val_loss: 9.3725 - lr: 0.0025\n",
            "Epoch 124/300\n",
            "340/340 [==============================] - 1s 3ms/step - loss: 6.5170 - val_loss: 9.1198 - lr: 0.0025\n",
            "Epoch 125/300\n",
            "340/340 [==============================] - 1s 3ms/step - loss: 6.6034 - val_loss: 9.0646 - lr: 0.0025\n",
            "Epoch 126/300\n",
            "340/340 [==============================] - 1s 3ms/step - loss: 6.6030 - val_loss: 9.3108 - lr: 0.0025\n",
            "Epoch 127/300\n",
            "340/340 [==============================] - 1s 3ms/step - loss: 6.5754 - val_loss: 9.2918 - lr: 0.0025\n",
            "Epoch 128/300\n",
            "340/340 [==============================] - 1s 3ms/step - loss: 6.5509 - val_loss: 9.5365 - lr: 0.0025\n",
            "Epoch 129/300\n",
            "340/340 [==============================] - 1s 3ms/step - loss: 6.5553 - val_loss: 9.0580 - lr: 0.0025\n",
            "Epoch 130/300\n",
            "340/340 [==============================] - 1s 3ms/step - loss: 6.4849 - val_loss: 9.2886 - lr: 0.0025\n",
            "Epoch 131/300\n",
            "340/340 [==============================] - 1s 3ms/step - loss: 6.5840 - val_loss: 9.5285 - lr: 0.0025\n",
            "Epoch 132/300\n",
            "340/340 [==============================] - 1s 4ms/step - loss: 6.5682 - val_loss: 9.3117 - lr: 0.0025\n",
            "Epoch 133/300\n",
            "340/340 [==============================] - 1s 4ms/step - loss: 6.5159 - val_loss: 9.5014 - lr: 0.0025\n",
            "Epoch 134/300\n",
            "340/340 [==============================] - 1s 3ms/step - loss: 6.5312 - val_loss: 9.3691 - lr: 0.0025\n",
            "Epoch 135/300\n",
            "340/340 [==============================] - 1s 3ms/step - loss: 6.5559 - val_loss: 9.7184 - lr: 0.0025\n",
            "Epoch 136/300\n",
            "340/340 [==============================] - 1s 3ms/step - loss: 6.5845 - val_loss: 9.6347 - lr: 0.0025\n",
            "Epoch 137/300\n",
            "340/340 [==============================] - 1s 3ms/step - loss: 6.5363 - val_loss: 9.3445 - lr: 0.0025\n",
            "Epoch 138/300\n",
            "340/340 [==============================] - 1s 3ms/step - loss: 6.5683 - val_loss: 9.5839 - lr: 0.0025\n",
            "Epoch 139/300\n",
            "340/340 [==============================] - 1s 3ms/step - loss: 6.5663 - val_loss: 10.0351 - lr: 0.0025\n",
            "Epoch 140/300\n",
            "340/340 [==============================] - 1s 3ms/step - loss: 6.5701 - val_loss: 9.2989 - lr: 0.0025\n",
            "Epoch 141/300\n",
            "332/340 [============================>.] - ETA: 0s - loss: 6.5147\n",
            "Epoch 141: ReduceLROnPlateau reducing learning rate to 0.0012499999720603228.\n",
            "340/340 [==============================] - 1s 3ms/step - loss: 6.4971 - val_loss: 9.1580 - lr: 0.0025\n",
            "Epoch 142/300\n",
            "340/340 [==============================] - 1s 3ms/step - loss: 6.2951 - val_loss: 9.1719 - lr: 0.0012\n",
            "Epoch 143/300\n",
            "340/340 [==============================] - 1s 4ms/step - loss: 6.2740 - val_loss: 9.1528 - lr: 0.0012\n",
            "Epoch 144/300\n",
            "340/340 [==============================] - 2s 4ms/step - loss: 6.2841 - val_loss: 9.8202 - lr: 0.0012\n",
            "Epoch 145/300\n",
            "340/340 [==============================] - 1s 3ms/step - loss: 6.3452 - val_loss: 9.1100 - lr: 0.0012\n",
            "Epoch 146/300\n",
            "340/340 [==============================] - 1s 3ms/step - loss: 6.2833 - val_loss: 9.1070 - lr: 0.0012\n",
            "Epoch 147/300\n",
            "340/340 [==============================] - 1s 3ms/step - loss: 6.3331 - val_loss: 9.1175 - lr: 0.0012\n",
            "Epoch 148/300\n",
            "340/340 [==============================] - 1s 3ms/step - loss: 6.3114 - val_loss: 9.3955 - lr: 0.0012\n",
            "Epoch 149/300\n",
            "340/340 [==============================] - 1s 3ms/step - loss: 6.3187 - val_loss: 9.0587 - lr: 0.0012\n",
            "Epoch 150/300\n",
            "340/340 [==============================] - 1s 3ms/step - loss: 6.2702 - val_loss: 9.1493 - lr: 0.0012\n",
            "Epoch 151/300\n",
            "340/340 [==============================] - 1s 3ms/step - loss: 6.2811 - val_loss: 9.2499 - lr: 0.0012\n",
            "Epoch 152/300\n",
            "340/340 [==============================] - 1s 3ms/step - loss: 6.2916 - val_loss: 9.2657 - lr: 0.0012\n",
            "Epoch 153/300\n",
            "340/340 [==============================] - 1s 3ms/step - loss: 6.3209 - val_loss: 9.1373 - lr: 0.0012\n",
            "Epoch 154/300\n",
            "340/340 [==============================] - 2s 5ms/step - loss: 6.3114 - val_loss: 9.1080 - lr: 0.0012\n",
            "Epoch 155/300\n",
            "340/340 [==============================] - 1s 4ms/step - loss: 6.3179 - val_loss: 9.2945 - lr: 0.0012\n",
            "Epoch 156/300\n",
            "340/340 [==============================] - 1s 3ms/step - loss: 6.3113 - val_loss: 9.1935 - lr: 0.0012\n",
            "Epoch 157/300\n",
            "340/340 [==============================] - 1s 3ms/step - loss: 6.2542 - val_loss: 9.2185 - lr: 0.0012\n",
            "Epoch 158/300\n",
            "340/340 [==============================] - 1s 3ms/step - loss: 6.2615 - val_loss: 9.2234 - lr: 0.0012\n",
            "Epoch 159/300\n",
            "340/340 [==============================] - 1s 3ms/step - loss: 6.3107 - val_loss: 9.2008 - lr: 0.0012\n",
            "Epoch 160/300\n",
            "340/340 [==============================] - 1s 3ms/step - loss: 6.3463 - val_loss: 9.1537 - lr: 0.0012\n",
            "Epoch 161/300\n",
            "330/340 [============================>.] - ETA: 0s - loss: 6.3138\n",
            "Epoch 161: ReduceLROnPlateau reducing learning rate to 0.0006249999860301614.\n",
            "340/340 [==============================] - 1s 3ms/step - loss: 6.2655 - val_loss: 9.1763 - lr: 0.0012\n",
            "Epoch 162/300\n",
            "340/340 [==============================] - 1s 3ms/step - loss: 6.1565 - val_loss: 9.1059 - lr: 6.2500e-04\n",
            "Epoch 163/300\n",
            "340/340 [==============================] - 1s 3ms/step - loss: 6.1699 - val_loss: 9.2298 - lr: 6.2500e-04\n",
            "Epoch 164/300\n",
            "340/340 [==============================] - 1s 4ms/step - loss: 6.1493 - val_loss: 9.1399 - lr: 6.2500e-04\n",
            "Epoch 165/300\n",
            "340/340 [==============================] - 1s 4ms/step - loss: 6.1865 - val_loss: 9.1375 - lr: 6.2500e-04\n",
            "Epoch 166/300\n",
            "340/340 [==============================] - 1s 3ms/step - loss: 6.1735 - val_loss: 9.1569 - lr: 6.2500e-04\n",
            "Epoch 167/300\n",
            "340/340 [==============================] - 1s 3ms/step - loss: 6.1547 - val_loss: 9.1581 - lr: 6.2500e-04\n",
            "Epoch 168/300\n",
            "340/340 [==============================] - 1s 3ms/step - loss: 6.1574 - val_loss: 9.2506 - lr: 6.2500e-04\n",
            "Epoch 169/300\n",
            "340/340 [==============================] - 1s 3ms/step - loss: 6.1668 - val_loss: 9.1921 - lr: 6.2500e-04\n",
            "Epoch 170/300\n",
            "340/340 [==============================] - 1s 3ms/step - loss: 6.1466 - val_loss: 9.2620 - lr: 6.2500e-04\n",
            "Epoch 171/300\n",
            "340/340 [==============================] - 1s 3ms/step - loss: 6.1756 - val_loss: 9.6656 - lr: 6.2500e-04\n",
            "Epoch 172/300\n",
            "340/340 [==============================] - 1s 3ms/step - loss: 6.1702 - val_loss: 9.1857 - lr: 6.2500e-04\n",
            "Epoch 173/300\n",
            "340/340 [==============================] - 1s 3ms/step - loss: 6.1594 - val_loss: 9.2319 - lr: 6.2500e-04\n",
            "Epoch 174/300\n",
            "340/340 [==============================] - 1s 3ms/step - loss: 6.1650 - val_loss: 9.3018 - lr: 6.2500e-04\n",
            "Epoch 175/300\n",
            "340/340 [==============================] - 2s 4ms/step - loss: 6.1662 - val_loss: 9.3336 - lr: 6.2500e-04\n",
            "Epoch 176/300\n",
            "340/340 [==============================] - 1s 4ms/step - loss: 6.1491 - val_loss: 9.2086 - lr: 6.2500e-04\n",
            "Epoch 177/300\n",
            "340/340 [==============================] - 1s 3ms/step - loss: 6.1329 - val_loss: 9.1582 - lr: 6.2500e-04\n",
            "Epoch 178/300\n",
            "340/340 [==============================] - 1s 3ms/step - loss: 6.1415 - val_loss: 9.2515 - lr: 6.2500e-04\n",
            "Epoch 179/300\n",
            "340/340 [==============================] - 1s 3ms/step - loss: 6.1640 - val_loss: 9.1304 - lr: 6.2500e-04\n",
            "Epoch 180/300\n",
            "340/340 [==============================] - 1s 3ms/step - loss: 6.1470 - val_loss: 9.1593 - lr: 6.2500e-04\n",
            "Epoch 181/300\n",
            "333/340 [============================>.] - ETA: 0s - loss: 6.1496\n",
            "Epoch 181: ReduceLROnPlateau reducing learning rate to 0.0003124999930150807.\n",
            "340/340 [==============================] - 1s 3ms/step - loss: 6.1461 - val_loss: 9.2194 - lr: 6.2500e-04\n",
            "Epoch 182/300\n",
            "340/340 [==============================] - 1s 3ms/step - loss: 6.1084 - val_loss: 9.1742 - lr: 3.1250e-04\n",
            "Epoch 183/300\n",
            "340/340 [==============================] - 1s 3ms/step - loss: 6.1046 - val_loss: 9.1307 - lr: 3.1250e-04\n",
            "Epoch 184/300\n",
            "340/340 [==============================] - 1s 3ms/step - loss: 6.0898 - val_loss: 9.2100 - lr: 3.1250e-04\n",
            "Epoch 185/300\n",
            "340/340 [==============================] - 1s 4ms/step - loss: 6.0936 - val_loss: 9.1423 - lr: 3.1250e-04\n",
            "Epoch 186/300\n",
            "340/340 [==============================] - 1s 4ms/step - loss: 6.0964 - val_loss: 9.2017 - lr: 3.1250e-04\n",
            "Epoch 187/300\n",
            "340/340 [==============================] - 1s 4ms/step - loss: 6.0741 - val_loss: 9.1681 - lr: 3.1250e-04\n",
            "Epoch 188/300\n",
            "340/340 [==============================] - 1s 3ms/step - loss: 6.0927 - val_loss: 9.2153 - lr: 3.1250e-04\n",
            "Epoch 189/300\n",
            "340/340 [==============================] - 1s 3ms/step - loss: 6.0733 - val_loss: 9.1537 - lr: 3.1250e-04\n",
            "Epoch 190/300\n",
            "340/340 [==============================] - 1s 3ms/step - loss: 6.0773 - val_loss: 9.2407 - lr: 3.1250e-04\n",
            "Epoch 191/300\n",
            "340/340 [==============================] - 1s 3ms/step - loss: 6.0909 - val_loss: 9.1440 - lr: 3.1250e-04\n",
            "Epoch 192/300\n",
            "340/340 [==============================] - 1s 3ms/step - loss: 6.0900 - val_loss: 9.2232 - lr: 3.1250e-04\n",
            "Epoch 193/300\n",
            "340/340 [==============================] - 1s 3ms/step - loss: 6.0752 - val_loss: 9.1249 - lr: 3.1250e-04\n",
            "Epoch 194/300\n",
            "340/340 [==============================] - 1s 3ms/step - loss: 6.0939 - val_loss: 9.1647 - lr: 3.1250e-04\n",
            "Epoch 195/300\n",
            "340/340 [==============================] - 1s 3ms/step - loss: 6.0871 - val_loss: 9.1727 - lr: 3.1250e-04\n",
            "Epoch 196/300\n",
            "340/340 [==============================] - 2s 5ms/step - loss: 6.0860 - val_loss: 9.1847 - lr: 3.1250e-04\n",
            "Epoch 197/300\n",
            "340/340 [==============================] - 2s 4ms/step - loss: 6.0871 - val_loss: 9.1299 - lr: 3.1250e-04\n",
            "Epoch 198/300\n",
            "340/340 [==============================] - 1s 3ms/step - loss: 6.0789 - val_loss: 9.1597 - lr: 3.1250e-04\n",
            "Epoch 199/300\n",
            "340/340 [==============================] - 1s 3ms/step - loss: 6.0863 - val_loss: 9.1984 - lr: 3.1250e-04\n",
            "Epoch 200/300\n",
            "340/340 [==============================] - 1s 3ms/step - loss: 6.0824 - val_loss: 9.1758 - lr: 3.1250e-04\n",
            "Epoch 201/300\n",
            "330/340 [============================>.] - ETA: 0s - loss: 6.0674\n",
            "Epoch 201: ReduceLROnPlateau reducing learning rate to 0.00015624999650754035.\n",
            "340/340 [==============================] - 1s 3ms/step - loss: 6.0893 - val_loss: 9.1476 - lr: 3.1250e-04\n",
            "Epoch 202/300\n",
            "340/340 [==============================] - 1s 3ms/step - loss: 6.0457 - val_loss: 9.1596 - lr: 1.5625e-04\n",
            "Epoch 203/300\n",
            "340/340 [==============================] - 1s 3ms/step - loss: 6.0414 - val_loss: 9.1649 - lr: 1.5625e-04\n",
            "Epoch 204/300\n",
            "340/340 [==============================] - 1s 3ms/step - loss: 6.0523 - val_loss: 9.1641 - lr: 1.5625e-04\n",
            "Epoch 205/300\n",
            "340/340 [==============================] - 1s 3ms/step - loss: 6.0503 - val_loss: 9.1512 - lr: 1.5625e-04\n",
            "Epoch 206/300\n",
            "340/340 [==============================] - 1s 3ms/step - loss: 6.0452 - val_loss: 9.1413 - lr: 1.5625e-04\n",
            "Epoch 207/300\n",
            "340/340 [==============================] - 2s 5ms/step - loss: 6.0503 - val_loss: 9.1332 - lr: 1.5625e-04\n",
            "Epoch 208/300\n",
            "340/340 [==============================] - 1s 4ms/step - loss: 6.0541 - val_loss: 9.1482 - lr: 1.5625e-04\n",
            "Epoch 209/300\n",
            "340/340 [==============================] - 1s 3ms/step - loss: 6.0467 - val_loss: 9.1575 - lr: 1.5625e-04\n",
            "Epoch 210/300\n",
            "340/340 [==============================] - 1s 3ms/step - loss: 6.0411 - val_loss: 9.1649 - lr: 1.5625e-04\n",
            "Epoch 211/300\n",
            "340/340 [==============================] - 1s 3ms/step - loss: 6.0428 - val_loss: 9.2462 - lr: 1.5625e-04\n",
            "Epoch 212/300\n",
            "340/340 [==============================] - 1s 3ms/step - loss: 6.0410 - val_loss: 9.1594 - lr: 1.5625e-04\n",
            "Epoch 213/300\n",
            "340/340 [==============================] - 1s 3ms/step - loss: 6.0498 - val_loss: 9.1693 - lr: 1.5625e-04\n",
            "Epoch 214/300\n",
            "340/340 [==============================] - 1s 3ms/step - loss: 6.0402 - val_loss: 9.1639 - lr: 1.5625e-04\n",
            "Epoch 215/300\n",
            "340/340 [==============================] - 1s 3ms/step - loss: 6.0427 - val_loss: 9.1675 - lr: 1.5625e-04\n",
            "Epoch 216/300\n",
            "340/340 [==============================] - 1s 3ms/step - loss: 6.0469 - val_loss: 9.1453 - lr: 1.5625e-04\n",
            "Epoch 217/300\n",
            "340/340 [==============================] - 1s 4ms/step - loss: 6.0520 - val_loss: 9.1516 - lr: 1.5625e-04\n",
            "Epoch 218/300\n",
            "340/340 [==============================] - 2s 4ms/step - loss: 6.0461 - val_loss: 9.1685 - lr: 1.5625e-04\n",
            "Epoch 219/300\n",
            "340/340 [==============================] - 1s 3ms/step - loss: 6.0513 - val_loss: 9.2017 - lr: 1.5625e-04\n",
            "Epoch 220/300\n",
            "340/340 [==============================] - 1s 3ms/step - loss: 6.0451 - val_loss: 9.1687 - lr: 1.5625e-04\n",
            "Epoch 221/300\n",
            "330/340 [============================>.] - ETA: 0s - loss: 6.0973\n",
            "Epoch 221: ReduceLROnPlateau reducing learning rate to 0.0001.\n",
            "340/340 [==============================] - 1s 3ms/step - loss: 6.0505 - val_loss: 9.1456 - lr: 1.5625e-04\n",
            "Epoch 222/300\n",
            "340/340 [==============================] - 1s 3ms/step - loss: 6.0236 - val_loss: 9.1628 - lr: 1.0000e-04\n",
            "Epoch 223/300\n",
            "340/340 [==============================] - 1s 3ms/step - loss: 6.0270 - val_loss: 9.1383 - lr: 1.0000e-04\n",
            "Epoch 224/300\n",
            "340/340 [==============================] - 1s 3ms/step - loss: 6.0332 - val_loss: 9.1583 - lr: 1.0000e-04\n",
            "Epoch 225/300\n",
            "340/340 [==============================] - 1s 3ms/step - loss: 6.0284 - val_loss: 9.1571 - lr: 1.0000e-04\n",
            "Epoch 226/300\n",
            "340/340 [==============================] - 1s 3ms/step - loss: 6.0428 - val_loss: 9.1518 - lr: 1.0000e-04\n",
            "Epoch 227/300\n",
            "340/340 [==============================] - 1s 3ms/step - loss: 6.0326 - val_loss: 9.1611 - lr: 1.0000e-04\n",
            "Epoch 228/300\n",
            "340/340 [==============================] - 2s 4ms/step - loss: 6.0345 - val_loss: 9.1567 - lr: 1.0000e-04\n",
            "Epoch 229/300\n",
            "340/340 [==============================] - 1s 4ms/step - loss: 6.0358 - val_loss: 9.1510 - lr: 1.0000e-04\n",
            "Epoch 230/300\n",
            "340/340 [==============================] - 1s 3ms/step - loss: 6.0360 - val_loss: 9.1427 - lr: 1.0000e-04\n",
            "Epoch 231/300\n",
            "340/340 [==============================] - 1s 3ms/step - loss: 6.0309 - val_loss: 9.1798 - lr: 1.0000e-04\n",
            "Epoch 232/300\n",
            "340/340 [==============================] - 1s 3ms/step - loss: 6.0374 - val_loss: 9.1794 - lr: 1.0000e-04\n",
            "Epoch 233/300\n",
            "340/340 [==============================] - 1s 3ms/step - loss: 6.0306 - val_loss: 9.1615 - lr: 1.0000e-04\n",
            "Epoch 234/300\n",
            "340/340 [==============================] - 1s 3ms/step - loss: 6.0285 - val_loss: 9.1710 - lr: 1.0000e-04\n",
            "Epoch 235/300\n",
            "340/340 [==============================] - 1s 3ms/step - loss: 6.0357 - val_loss: 9.1910 - lr: 1.0000e-04\n",
            "Epoch 236/300\n",
            "340/340 [==============================] - 1s 3ms/step - loss: 6.0327 - val_loss: 9.1589 - lr: 1.0000e-04\n",
            "Epoch 237/300\n",
            "340/340 [==============================] - 1s 3ms/step - loss: 6.0285 - val_loss: 9.1578 - lr: 1.0000e-04\n",
            "Epoch 238/300\n",
            "340/340 [==============================] - 1s 3ms/step - loss: 6.0322 - val_loss: 9.1581 - lr: 1.0000e-04\n",
            "Epoch 239/300\n",
            "340/340 [==============================] - 2s 4ms/step - loss: 6.0352 - val_loss: 9.1480 - lr: 1.0000e-04\n",
            "Epoch 240/300\n",
            "340/340 [==============================] - 1s 4ms/step - loss: 6.0285 - val_loss: 9.2321 - lr: 1.0000e-04\n",
            "Epoch 241/300\n",
            "340/340 [==============================] - 1s 3ms/step - loss: 6.0285 - val_loss: 9.1791 - lr: 1.0000e-04\n",
            "Epoch 242/300\n",
            "340/340 [==============================] - 1s 3ms/step - loss: 6.0285 - val_loss: 9.1416 - lr: 1.0000e-04\n",
            "Epoch 243/300\n",
            "340/340 [==============================] - 1s 3ms/step - loss: 6.0304 - val_loss: 9.1420 - lr: 1.0000e-04\n",
            "Epoch 244/300\n",
            "340/340 [==============================] - 1s 3ms/step - loss: 6.0305 - val_loss: 9.1774 - lr: 1.0000e-04\n",
            "Epoch 245/300\n",
            "340/340 [==============================] - 1s 3ms/step - loss: 6.0332 - val_loss: 9.1609 - lr: 1.0000e-04\n",
            "Epoch 246/300\n",
            "340/340 [==============================] - 1s 3ms/step - loss: 6.0331 - val_loss: 9.1438 - lr: 1.0000e-04\n",
            "Epoch 247/300\n",
            "340/340 [==============================] - 1s 3ms/step - loss: 6.0324 - val_loss: 9.1706 - lr: 1.0000e-04\n",
            "Epoch 248/300\n",
            "340/340 [==============================] - 1s 3ms/step - loss: 6.0311 - val_loss: 9.1714 - lr: 1.0000e-04\n",
            "Epoch 249/300\n",
            "340/340 [==============================] - 1s 4ms/step - loss: 6.0316 - val_loss: 9.1505 - lr: 1.0000e-04\n",
            "Epoch 250/300\n",
            "340/340 [==============================] - 1s 4ms/step - loss: 6.0316 - val_loss: 9.1517 - lr: 1.0000e-04\n",
            "Epoch 251/300\n",
            "340/340 [==============================] - 1s 3ms/step - loss: 6.0326 - val_loss: 9.1467 - lr: 1.0000e-04\n",
            "Epoch 252/300\n",
            "340/340 [==============================] - 1s 3ms/step - loss: 6.0296 - val_loss: 9.1466 - lr: 1.0000e-04\n",
            "Epoch 253/300\n",
            "340/340 [==============================] - 1s 3ms/step - loss: 6.0229 - val_loss: 9.1491 - lr: 1.0000e-04\n",
            "Epoch 254/300\n",
            "340/340 [==============================] - 1s 3ms/step - loss: 6.0309 - val_loss: 9.1655 - lr: 1.0000e-04\n",
            "Epoch 255/300\n",
            "340/340 [==============================] - 1s 3ms/step - loss: 6.0275 - val_loss: 9.1435 - lr: 1.0000e-04\n",
            "Epoch 256/300\n",
            "340/340 [==============================] - 1s 3ms/step - loss: 6.0233 - val_loss: 9.1951 - lr: 1.0000e-04\n",
            "Epoch 257/300\n",
            "340/340 [==============================] - 1s 3ms/step - loss: 6.0341 - val_loss: 9.1528 - lr: 1.0000e-04\n",
            "Epoch 258/300\n",
            "340/340 [==============================] - 1s 3ms/step - loss: 6.0266 - val_loss: 9.1524 - lr: 1.0000e-04\n",
            "Epoch 259/300\n",
            "340/340 [==============================] - 1s 4ms/step - loss: 6.0307 - val_loss: 9.1555 - lr: 1.0000e-04\n",
            "Epoch 260/300\n",
            "340/340 [==============================] - 2s 5ms/step - loss: 6.0291 - val_loss: 9.1604 - lr: 1.0000e-04\n",
            "Epoch 261/300\n",
            "340/340 [==============================] - 1s 4ms/step - loss: 6.0289 - val_loss: 9.1674 - lr: 1.0000e-04\n",
            "Epoch 262/300\n",
            "340/340 [==============================] - 1s 3ms/step - loss: 6.0345 - val_loss: 9.1621 - lr: 1.0000e-04\n",
            "Epoch 263/300\n",
            "340/340 [==============================] - 1s 3ms/step - loss: 6.0290 - val_loss: 9.1567 - lr: 1.0000e-04\n",
            "Epoch 264/300\n",
            "340/340 [==============================] - 1s 3ms/step - loss: 6.0332 - val_loss: 9.1921 - lr: 1.0000e-04\n",
            "Epoch 265/300\n",
            "340/340 [==============================] - 1s 3ms/step - loss: 6.0285 - val_loss: 9.1402 - lr: 1.0000e-04\n",
            "Epoch 266/300\n",
            "340/340 [==============================] - 1s 3ms/step - loss: 6.0294 - val_loss: 9.1351 - lr: 1.0000e-04\n",
            "Epoch 267/300\n",
            "340/340 [==============================] - 1s 3ms/step - loss: 6.0344 - val_loss: 9.1451 - lr: 1.0000e-04\n",
            "Epoch 268/300\n",
            "340/340 [==============================] - 1s 3ms/step - loss: 6.0195 - val_loss: 9.1937 - lr: 1.0000e-04\n",
            "Epoch 269/300\n",
            "340/340 [==============================] - 1s 3ms/step - loss: 6.0356 - val_loss: 9.1561 - lr: 1.0000e-04\n",
            "Epoch 270/300\n",
            "340/340 [==============================] - 1s 4ms/step - loss: 6.0221 - val_loss: 9.1447 - lr: 1.0000e-04\n",
            "Epoch 271/300\n",
            "340/340 [==============================] - 2s 4ms/step - loss: 6.0261 - val_loss: 9.1487 - lr: 1.0000e-04\n",
            "Epoch 272/300\n",
            "340/340 [==============================] - 1s 3ms/step - loss: 6.0301 - val_loss: 9.1534 - lr: 1.0000e-04\n",
            "Epoch 273/300\n",
            "340/340 [==============================] - 1s 3ms/step - loss: 6.0257 - val_loss: 9.1506 - lr: 1.0000e-04\n",
            "Epoch 274/300\n",
            "340/340 [==============================] - 1s 3ms/step - loss: 6.0317 - val_loss: 9.1508 - lr: 1.0000e-04\n",
            "Epoch 275/300\n",
            "340/340 [==============================] - 1s 3ms/step - loss: 6.0324 - val_loss: 9.1623 - lr: 1.0000e-04\n",
            "Epoch 276/300\n",
            "340/340 [==============================] - 1s 3ms/step - loss: 6.0259 - val_loss: 9.1669 - lr: 1.0000e-04\n",
            "Epoch 277/300\n",
            "340/340 [==============================] - 1s 3ms/step - loss: 6.0240 - val_loss: 9.1523 - lr: 1.0000e-04\n",
            "Epoch 278/300\n",
            "340/340 [==============================] - 1s 3ms/step - loss: 6.0309 - val_loss: 9.1510 - lr: 1.0000e-04\n",
            "Epoch 279/300\n",
            "340/340 [==============================] - 1s 3ms/step - loss: 6.0249 - val_loss: 9.1549 - lr: 1.0000e-04\n",
            "Epoch 280/300\n",
            "340/340 [==============================] - 1s 3ms/step - loss: 6.0282 - val_loss: 9.1594 - lr: 1.0000e-04\n",
            "Epoch 281/300\n",
            "340/340 [==============================] - 2s 4ms/step - loss: 6.0237 - val_loss: 9.1650 - lr: 1.0000e-04\n",
            "Epoch 282/300\n",
            "340/340 [==============================] - 1s 4ms/step - loss: 6.0322 - val_loss: 9.1654 - lr: 1.0000e-04\n",
            "Epoch 283/300\n",
            "340/340 [==============================] - 1s 3ms/step - loss: 6.0260 - val_loss: 9.1622 - lr: 1.0000e-04\n",
            "Epoch 284/300\n",
            "340/340 [==============================] - 1s 3ms/step - loss: 6.0254 - val_loss: 9.1505 - lr: 1.0000e-04\n",
            "Epoch 285/300\n",
            "340/340 [==============================] - 1s 3ms/step - loss: 6.0217 - val_loss: 9.1778 - lr: 1.0000e-04\n",
            "Epoch 286/300\n",
            "340/340 [==============================] - 1s 3ms/step - loss: 6.0224 - val_loss: 9.1570 - lr: 1.0000e-04\n",
            "Epoch 287/300\n",
            "340/340 [==============================] - 1s 3ms/step - loss: 6.0278 - val_loss: 9.1846 - lr: 1.0000e-04\n",
            "Epoch 288/300\n",
            "340/340 [==============================] - 1s 3ms/step - loss: 6.0205 - val_loss: 9.1802 - lr: 1.0000e-04\n",
            "Epoch 289/300\n",
            "340/340 [==============================] - 1s 3ms/step - loss: 6.0167 - val_loss: 9.1681 - lr: 1.0000e-04\n",
            "Epoch 290/300\n",
            "340/340 [==============================] - 1s 3ms/step - loss: 6.0284 - val_loss: 9.1671 - lr: 1.0000e-04\n",
            "Epoch 291/300\n",
            "340/340 [==============================] - 1s 4ms/step - loss: 6.0302 - val_loss: 9.1481 - lr: 1.0000e-04\n",
            "Epoch 292/300\n",
            "340/340 [==============================] - 1s 4ms/step - loss: 6.0194 - val_loss: 9.1777 - lr: 1.0000e-04\n",
            "Epoch 293/300\n",
            "340/340 [==============================] - 1s 4ms/step - loss: 6.0252 - val_loss: 9.1676 - lr: 1.0000e-04\n",
            "Epoch 294/300\n",
            "340/340 [==============================] - 1s 3ms/step - loss: 6.0279 - val_loss: 9.1510 - lr: 1.0000e-04\n",
            "Epoch 295/300\n",
            "340/340 [==============================] - 1s 3ms/step - loss: 6.0228 - val_loss: 9.1717 - lr: 1.0000e-04\n",
            "Epoch 296/300\n",
            "340/340 [==============================] - 1s 3ms/step - loss: 6.0218 - val_loss: 9.1542 - lr: 1.0000e-04\n",
            "Epoch 297/300\n",
            "340/340 [==============================] - 1s 3ms/step - loss: 6.0268 - val_loss: 9.1531 - lr: 1.0000e-04\n",
            "Epoch 298/300\n",
            "340/340 [==============================] - 1s 3ms/step - loss: 6.0194 - val_loss: 9.1677 - lr: 1.0000e-04\n",
            "Epoch 299/300\n",
            "340/340 [==============================] - 1s 3ms/step - loss: 6.0278 - val_loss: 9.1983 - lr: 1.0000e-04\n",
            "Epoch 300/300\n",
            "340/340 [==============================] - 1s 3ms/step - loss: 6.0246 - val_loss: 9.1731 - lr: 1.0000e-04\n"
          ]
        }
      ],
      "source": [
        "import tensorflow as tf\n",
        "from tensorflow import keras\n",
        "\n",
        "# Define the model\n",
        "model = keras.Sequential()\n",
        "model.add(keras.layers.Dense(64, activation='relu', input_shape=[len(X_train.columns)]))\n",
        "model.add(keras.layers.Dense(1))\n",
        "\n",
        "# Compile the model\n",
        "model.compile(loss='mse',\n",
        "              optimizer=tf.keras.optimizers.Adam(0.01))\n",
        "\n",
        "reduce_lr = keras.callbacks.ReduceLROnPlateau(monitor='val_loss', factor=0.5, patience=20, min_lr=0.0001, verbose=1)\n",
        "\n",
        "# Train the model\n",
        "history = model.fit(X_train, y_train, validation_data=(X_val, y_val), epochs=300, callbacks=[reduce_lr])\n",
        "\n"
      ]
    },
    {
      "cell_type": "code",
      "execution_count": null,
      "metadata": {
        "id": "12uOOkgKfLwP",
        "colab": {
          "base_uri": "https://localhost:8080/"
        },
        "outputId": "8690fb5b-163f-4b9d-99c6-8767e271ee69"
      },
      "outputs": [
        {
          "output_type": "stream",
          "name": "stdout",
          "text": [
            "340/340 [==============================] - 1s 1ms/step\n",
            "134/134 [==============================] - 0s 1ms/step\n",
            "R-squared score on training set: 0.9760\n",
            "R-squared score on testing set: 0.9689\n"
          ]
        }
      ],
      "source": [
        "y_preds = model.predict(X_train)\n",
        "y_preds_ = model.predict(X_test)\n",
        "\n",
        "# Evaluate the performance of the model using R-squared score\n",
        "r1 = r2_score(y_train, y_preds)\n",
        "r2 = r2_score(y_test, y_preds_)\n",
        "print('R-squared score on training set:', \"%.4f\"%r1)\n",
        "print('R-squared score on testing set:', \"%.4f\"%r2)"
      ]
    },
    {
      "cell_type": "markdown",
      "source": [
        "We got the R2 socre of 0.9760 on training set and 0.9689 on testing set. The gap between these two scores is very small so we can conclude that the model is generalized."
      ],
      "metadata": {
        "id": "p2c9C9wbFXwN"
      }
    },
    {
      "cell_type": "markdown",
      "source": [
        "## Reversing the Transformation on Target Variable"
      ],
      "metadata": {
        "id": "eRT5K7RIo3kG"
      }
    },
    {
      "cell_type": "markdown",
      "source": [
        "We had transformed our target variable using square root transformation in order to normalize it. Now we will reverse the transformation on cnt to get the actual R2 score."
      ],
      "metadata": {
        "id": "ZTYRqQaIo_Gy"
      }
    },
    {
      "cell_type": "code",
      "execution_count": null,
      "metadata": {
        "id": "V437DzL4fcsR",
        "colab": {
          "base_uri": "https://localhost:8080/"
        },
        "outputId": "c7c04304-4272-4491-99df-45e69145224f"
      },
      "outputs": [
        {
          "output_type": "stream",
          "name": "stdout",
          "text": [
            "Actual R-squared score: 0.9614\n"
          ]
        }
      ],
      "source": [
        "print('Actual R-squared score:', \"%.4f\"%r2_score(np.square(y_test), np.square(y_preds_)))"
      ]
    }
  ],
  "metadata": {
    "colab": {
      "provenance": [],
      "gpuType": "T4"
    },
    "kernelspec": {
      "display_name": "Python 3",
      "name": "python3"
    },
    "language_info": {
      "name": "python"
    },
    "accelerator": "GPU",
    "gpuClass": "standard"
  },
  "nbformat": 4,
  "nbformat_minor": 0
}